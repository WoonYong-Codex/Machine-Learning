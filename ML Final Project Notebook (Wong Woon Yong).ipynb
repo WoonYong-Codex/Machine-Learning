{
 "cells": [
  {
   "cell_type": "markdown",
   "metadata": {},
   "source": [
    "## ML Final Project"
   ]
  },
  {
   "cell_type": "markdown",
   "metadata": {},
   "source": [
    "**Scenario:** You work at a multinational bank that is aiming to increase it's market share in \n",
    "Europe. Recently, it has been noticed that the number of customers using the banking \n",
    "services has declined, and the bank is worried that existing customers have stopped \n",
    "using them as their main bank. <br> \n",
    "\n",
    "As a data scientist, you are tasked with finding out the \n",
    "reasons behind customer churn (when a customer stops using them as the main bank) and to predict customer churn. <br> \n",
    "\n",
    "The marketing team, \n",
    "in particular, is interested in your findings and want to better understand existing \n",
    "customer behavior and possibly predict customer churn. Your results will help the \n",
    "marketing team to use their budget wisely to target potential churners. To achieve \n",
    "this objective, in this exercise, you will import the banking data (Churn_Modelling.csv) \n",
    "provided by the bank and do some machine learning to solve their problem."
   ]
  },
  {
   "cell_type": "markdown",
   "metadata": {},
   "source": [
    "Data dictionary\n",
    "\n",
    "- CustomerID: Unique ID of each customer\n",
    "- CredRate: Credit Score of the customer \n",
    "- Geography: Country customer is from \n",
    "- Gender\n",
    "- Age\n",
    "- Tenure: How long customer has been with bank \n",
    "- Prod Number: Number of products customer has with bank \n",
    "- HasCrCard: Does customer have credit card\n",
    "- ActMem: Is customer active member \n",
    "- Estimated salary: Annual estimated salary of customer \n",
    "- Exited: Whether customer has churned (1 is yes)"
   ]
  },
  {
   "cell_type": "code",
   "execution_count": 2,
   "metadata": {},
   "outputs": [],
   "source": [
    "# Introduction \n",
    "# Handling customer attrition or churn in banking sector is important, based on the \n",
    "# “Churn Modeling” data provided by a multinational bank, the approach is applying Machine \n",
    "# Learning with aim to find out reasons of customer churn and to predict customer churn for \n",
    "# the bank in their Europe market. "
   ]
  },
  {
   "cell_type": "code",
   "execution_count": 3,
   "metadata": {},
   "outputs": [],
   "source": [
    "# Import Libreries\n",
    "\n",
    "## For Data wrangling \n",
    "import pandas as pd\n",
    "import numpy as np\n",
    "\n",
    "## For Visualization Plot\n",
    "import matplotlib.pyplot as plt\n",
    "%matplotlib inline\n",
    "\n",
    "import seaborn as sns"
   ]
  },
  {
   "cell_type": "code",
   "execution_count": 4,
   "metadata": {},
   "outputs": [
    {
     "data": {
      "text/html": [
       "<div>\n",
       "<style scoped>\n",
       "    .dataframe tbody tr th:only-of-type {\n",
       "        vertical-align: middle;\n",
       "    }\n",
       "\n",
       "    .dataframe tbody tr th {\n",
       "        vertical-align: top;\n",
       "    }\n",
       "\n",
       "    .dataframe thead th {\n",
       "        text-align: right;\n",
       "    }\n",
       "</style>\n",
       "<table border=\"1\" class=\"dataframe\">\n",
       "  <thead>\n",
       "    <tr style=\"text-align: right;\">\n",
       "      <th></th>\n",
       "      <th>CustomerId</th>\n",
       "      <th>CredRate</th>\n",
       "      <th>Geography</th>\n",
       "      <th>Gender</th>\n",
       "      <th>Age</th>\n",
       "      <th>Tenure</th>\n",
       "      <th>Balance</th>\n",
       "      <th>Prod Number</th>\n",
       "      <th>HasCrCard</th>\n",
       "      <th>ActMem</th>\n",
       "      <th>EstimatedSalary</th>\n",
       "      <th>Exited</th>\n",
       "    </tr>\n",
       "  </thead>\n",
       "  <tbody>\n",
       "    <tr>\n",
       "      <th>0</th>\n",
       "      <td>15634602</td>\n",
       "      <td>619</td>\n",
       "      <td>France</td>\n",
       "      <td>Female</td>\n",
       "      <td>42.0</td>\n",
       "      <td>2</td>\n",
       "      <td>0.00</td>\n",
       "      <td>1</td>\n",
       "      <td>1</td>\n",
       "      <td>1</td>\n",
       "      <td>101348.88</td>\n",
       "      <td>1</td>\n",
       "    </tr>\n",
       "    <tr>\n",
       "      <th>1</th>\n",
       "      <td>15647311</td>\n",
       "      <td>608</td>\n",
       "      <td>Spain</td>\n",
       "      <td>Female</td>\n",
       "      <td>41.0</td>\n",
       "      <td>1</td>\n",
       "      <td>83807.86</td>\n",
       "      <td>1</td>\n",
       "      <td>0</td>\n",
       "      <td>1</td>\n",
       "      <td>112542.58</td>\n",
       "      <td>0</td>\n",
       "    </tr>\n",
       "    <tr>\n",
       "      <th>2</th>\n",
       "      <td>15619304</td>\n",
       "      <td>502</td>\n",
       "      <td>France</td>\n",
       "      <td>Female</td>\n",
       "      <td>42.0</td>\n",
       "      <td>8</td>\n",
       "      <td>159660.80</td>\n",
       "      <td>3</td>\n",
       "      <td>1</td>\n",
       "      <td>0</td>\n",
       "      <td>113931.57</td>\n",
       "      <td>1</td>\n",
       "    </tr>\n",
       "    <tr>\n",
       "      <th>3</th>\n",
       "      <td>15701354</td>\n",
       "      <td>699</td>\n",
       "      <td>France</td>\n",
       "      <td>Female</td>\n",
       "      <td>39.0</td>\n",
       "      <td>1</td>\n",
       "      <td>0.00</td>\n",
       "      <td>2</td>\n",
       "      <td>0</td>\n",
       "      <td>0</td>\n",
       "      <td>93826.63</td>\n",
       "      <td>0</td>\n",
       "    </tr>\n",
       "    <tr>\n",
       "      <th>4</th>\n",
       "      <td>15737888</td>\n",
       "      <td>850</td>\n",
       "      <td>Spain</td>\n",
       "      <td>Female</td>\n",
       "      <td>43.0</td>\n",
       "      <td>2</td>\n",
       "      <td>125510.82</td>\n",
       "      <td>1</td>\n",
       "      <td>1</td>\n",
       "      <td>1</td>\n",
       "      <td>79084.10</td>\n",
       "      <td>0</td>\n",
       "    </tr>\n",
       "  </tbody>\n",
       "</table>\n",
       "</div>"
      ],
      "text/plain": [
       "   CustomerId  CredRate Geography  Gender   Age  Tenure    Balance  \\\n",
       "0    15634602       619    France  Female  42.0       2       0.00   \n",
       "1    15647311       608     Spain  Female  41.0       1   83807.86   \n",
       "2    15619304       502    France  Female  42.0       8  159660.80   \n",
       "3    15701354       699    France  Female  39.0       1       0.00   \n",
       "4    15737888       850     Spain  Female  43.0       2  125510.82   \n",
       "\n",
       "   Prod Number  HasCrCard  ActMem  EstimatedSalary  Exited  \n",
       "0            1          1       1        101348.88       1  \n",
       "1            1          0       1        112542.58       0  \n",
       "2            3          1       0        113931.57       1  \n",
       "3            2          0       0         93826.63       0  \n",
       "4            1          1       1         79084.10       0  "
      ]
     },
     "execution_count": 4,
     "metadata": {},
     "output_type": "execute_result"
    }
   ],
   "source": [
    "# Import \"Churn_Modelling.csv\" files as a Dataframe \"df_churn\" and view with \".head()\".\n",
    "\n",
    "df_churn = pd.read_csv('Churn_Modelling.csv')\n",
    "df_churn.head()   "
   ]
  },
  {
   "cell_type": "code",
   "execution_count": 5,
   "metadata": {},
   "outputs": [],
   "source": [
    "# From the data file, it consists of 12 features and 10000 customers information and will be \n",
    "# use as input and target,\n",
    "\n",
    "# 1) CustomerID: irrelevant data\n",
    "# 2) CredRate: to be use as Input\n",
    "# 3) Geography: to be use as Input\n",
    "# 4) Gender: to be use as Input\n",
    "# 5) Age: to be use as Input \n",
    "# 6) Balance: to be use as Input\n",
    "# 7) Tenure: to be use as Input\n",
    "# 8) Prod Number: to be use as Input\n",
    "# 9) HasCrCard: to be use as Input\n",
    "# 10) ActMem: to be use as Input\n",
    "# 11) Estimated salary: to be use as Input\n",
    "# 12) Exited: used as OUTPUT, the prediction target. \n",
    "#     Data with “1” represent customer has left the bank and “0” for customer still with the bank.\n",
    "\n",
    "\n",
    "# Prediction data that required to feed into model must be focusing on cluster instead of \n",
    "# individuals, we can segment data based on customer credit score and other behaviours but \n",
    "# not individual ID. Hence, “CustomerID” is irrelevant data and “Exited” is the output or \n",
    "# prediction Target with “1” represent customer has left the bank and “0” is customer still \n",
    "# with the bank. The rest of 10 features will be used as Input for prediction. "
   ]
  },
  {
   "cell_type": "code",
   "execution_count": 6,
   "metadata": {},
   "outputs": [
    {
     "name": "stdout",
     "output_type": "stream",
     "text": [
      "<class 'pandas.core.frame.DataFrame'>\n",
      "RangeIndex: 10000 entries, 0 to 9999\n",
      "Data columns (total 12 columns):\n",
      " #   Column           Non-Null Count  Dtype  \n",
      "---  ------           --------------  -----  \n",
      " 0   CustomerId       10000 non-null  int64  \n",
      " 1   CredRate         10000 non-null  int64  \n",
      " 2   Geography        10000 non-null  object \n",
      " 3   Gender           9996 non-null   object \n",
      " 4   Age              9994 non-null   float64\n",
      " 5   Tenure           10000 non-null  int64  \n",
      " 6   Balance          10000 non-null  float64\n",
      " 7   Prod Number      10000 non-null  int64  \n",
      " 8   HasCrCard        10000 non-null  int64  \n",
      " 9   ActMem           10000 non-null  int64  \n",
      " 10  EstimatedSalary  9996 non-null   float64\n",
      " 11  Exited           10000 non-null  int64  \n",
      "dtypes: float64(3), int64(7), object(2)\n",
      "memory usage: 937.6+ KB\n"
     ]
    }
   ],
   "source": [
    "# The details of Dataframe can be view with \".info()\", it having 3 features with missing \n",
    "# data (Gender, Age, EstimatedSalary) and 2 columns are \"object\" type or categorical data \n",
    "# (Geography, Gender) that need to be handle before prediction, as Missing values and \n",
    "# categorical data will affect the analysis process. The rest of the Features are all \n",
    "# numeric data.\n",
    "\n",
    "df_churn.info()"
   ]
  },
  {
   "cell_type": "code",
   "execution_count": 7,
   "metadata": {},
   "outputs": [
    {
     "data": {
      "text/plain": [
       "CustomerId         10000\n",
       "CredRate             460\n",
       "Geography              3\n",
       "Gender                 2\n",
       "Age                   70\n",
       "Tenure                11\n",
       "Balance             6382\n",
       "Prod Number            4\n",
       "HasCrCard              2\n",
       "ActMem                 2\n",
       "EstimatedSalary     9995\n",
       "Exited                 2\n",
       "dtype: int64"
      ]
     },
     "execution_count": 7,
     "metadata": {},
     "output_type": "execute_result"
    }
   ],
   "source": [
    "# Using \".nunique\" to check and count on the data, it consists:\n",
    "# 4 categorical data = 1) Geography, 2) Gender, 3) HasCrCard, 4) ActMem\n",
    "# 6 continuous data = 1) CredRate, 2) Age, 3) Tenure, 4) Balance, 5) Prod Number, \n",
    "#                     6) EstimatedSalary\n",
    "\n",
    "df_churn.nunique()"
   ]
  },
  {
   "cell_type": "code",
   "execution_count": 9,
   "metadata": {},
   "outputs": [
    {
     "data": {
      "image/png": "[encoded data removed]",
      "text/plain": [
       "<Figure size 576x432 with 1 Axes>"
      ]
     },
     "metadata": {},
     "output_type": "display_data"
    }
   ],
   "source": [
    "# 2) Data understanding / Preprocessing\n",
    "\n",
    "# Start with understanding current situation based on “Exited” customer or churned data by \n",
    "# plotting a Pie-chart to visualize with percentage. \n",
    "\n",
    "import matplotlib\n",
    "\n",
    "matplotlib.rcParams['text.color'] = 'black'\n",
    "data_c = [df_churn.Exited[df_churn['Exited']==1].count(), \n",
    "         df_churn.Exited[df_churn['Exited']==0].count()]\n",
    "\n",
    "fig, ax = plt.subplots(figsize=(8, 6))\n",
    "ax.pie(data_c, labels = ['Exited', 'Retained'], colors = [\"red\", \"blue\"],  \n",
    "       autopct='%1.2f%%', shadow=True, explode = (0, 0.2), startangle=90)\n",
    "\n",
    "matplotlib.rcParams['font.size']= 15\n",
    "ax.axis('equal')\n",
    "plt.title(\"Percentage of Current Customer Churned and Retained\", size=20)\n",
    "plt.show()\n",
    "\n",
    "\n",
    "# A total of 20% of the customer have churned, with such, we can set the baseline model \n",
    "# (what is this model…?) that can be predicted in 20%. This percentage might be small, \n",
    "# but it all depend on model that we choose and the prediction is having great accuracy \n",
    "# of this 20%. This is the main focus of the bank to understand the reason behind churn \n",
    "# and helps in predicting churn for customer that currently retained. "
   ]
  },
  {
   "cell_type": "code",
   "execution_count": 16,
   "metadata": {},
   "outputs": [
    {
     "data": {
      "image/png": "[encoded data removed]",
      "text/plain": [
       "<Figure size 1440x864 with 4 Axes>"
      ]
     },
     "metadata": {
      "needs_background": "light"
     },
     "output_type": "display_data"
    }
   ],
   "source": [
    "# Next, look into relations of \"Exited\" to the categorical data and visualized.\n",
    "\n",
    "fig, axarr = plt.subplots(2, 2, figsize=(20, 12))\n",
    "matplotlib.rcParams['font.size']=15\n",
    "\n",
    "sns.countplot(x='Geography', hue = 'Exited',data = df_churn, ax=axarr[0][0], palette='bright')\n",
    "sns.countplot(x='Gender', hue = 'Exited',data = df_churn, ax=axarr[0][1], palette='bright')\n",
    "sns.countplot(x='HasCrCard', hue = 'Exited',data = df_churn, ax=axarr[1][0], palette='bright')\n",
    "sns.countplot(x='ActMem', hue = 'Exited',data = df_churn, ax=axarr[1][1], palette='bright')\n",
    "\n",
    "plt.show()\n",
    "\n",
    "# We note the following:\n",
    "\n",
    "# Majority of the data is from persons from France. However, the proportion of churned customers \n",
    "# is with inversely related to the population of customers alluding to the bank possibly having \n",
    "# a problem (maybe not enough customer service resources allocated) in the areas where it has fewer \n",
    "# clients.\n",
    "# The proportion of female customers churning is also greater than that of male customers\n",
    "# Interestingly, majority of the customers that churned are those with credit cards. Given that \n",
    "# majority of the customers have credit cards could prove this to be just a coincidence.\n",
    "# Unsurprisingly the inactive members have a greater churn. Worryingly is that the overall \n",
    "# proportion of inactive mebers is quite high suggesting that the bank may need a program \n",
    "# implemented to turn this group to active customers as this will definately have a positive \n",
    "# impact on the customer churn.\n"
   ]
  },
  {
   "cell_type": "code",
   "execution_count": 17,
   "metadata": {},
   "outputs": [
    {
     "data": {
      "image/png": "[encoded data removed]",
      "text/plain": [
       "<Figure size 1440x1152 with 6 Axes>"
      ]
     },
     "metadata": {
      "needs_background": "light"
     },
     "output_type": "display_data"
    }
   ],
   "source": [
    "# Relations of \"Exited\" to the continuous data.\n",
    "\n",
    "fig, axarr = plt.subplots(3, 2, figsize=(20, 16))\n",
    "\n",
    "sns.boxplot(y='CredRate', x ='Exited', hue ='Exited', data=df_churn, ax=axarr[0][0], palette='deep')\n",
    "sns.boxplot(y='Age', x='Exited', hue='Exited',data=df_churn, ax=axarr[0][1], palette='deep')\n",
    "sns.boxplot(y='Tenure', x='Exited', hue='Exited', data=df_churn, ax=axarr[1][0], palette='deep')\n",
    "sns.boxplot(y='Balance', x='Exited', hue='Exited', data=df_churn, ax=axarr[1][1], palette='deep')\n",
    "sns.boxplot(y='Prod Number', x='Exited', hue='Exited', data=df_churn, ax=axarr[2][0], palette='deep')\n",
    "sns.boxplot(y='EstimatedSalary', x='Exited', hue='Exited', data=df_churn, \n",
    "            ax=axarr[2][1], palette='deep')\n",
    "plt.show()\n"
   ]
  },
  {
   "cell_type": "code",
   "execution_count": 18,
   "metadata": {},
   "outputs": [],
   "source": [
    "# Next, the illustration on continuous data attributes with Box-plot. Not much different on \n",
    "# churned and retained customer based on Credit Score (CredRate). Where customer who Age older \n",
    "# are likely to be churn compare to those younger, possible reason could be different \n",
    "# preference or need with different age group. The bank may require to look into their marketing\n",
    "# strategy based on different age groups. Despite the customer who spent extremely more or\n",
    "# little time with the bank, they are likely to churn compare to those who are spending\n",
    "# average time. \n",
    "# Looking at Balance, it is not a good sign that churned customer are likely those have balanced,\n",
    "# this might result in drain out available loan funds for the bank. Lastly, no significant sign\n",
    "# of churn for Product Number and Estimated Salary.\n"
   ]
  },
  {
   "cell_type": "code",
   "execution_count": null,
   "metadata": {},
   "outputs": [],
   "source": []
  },
  {
   "cell_type": "code",
   "execution_count": 19,
   "metadata": {},
   "outputs": [],
   "source": [
    "# Data pre-processing and Features Engineering that handle missing data and converting \n",
    "# data into numeric representative that ease the understanding for algorithms. We will \n",
    "# first drop the irrelevant data of \"CustomerId\" column. \n",
    "\n",
    "# Since dropping data could have result in missing information, the missing values for \n",
    "# Age and EstimatedSalary columns with handled with “Impute” method by their Mean values. \n",
    "# Lastly replace the missing Gender with Frequency or Mode.\n",
    "\n",
    "# From the dtype of data, columns CredRate, Age, Balance, EstimatedSalary are numeric \n",
    "# “Values data” that can be use directly. \n",
    "# Where columns Gender, HasCrCard, ActMem, Exited are kind of “Binarization data”, except \n",
    "# Gender columns all are in “1” or “0” which also can be use directly. We will handle the \n",
    "# Gender columns with using One-Hot-Encoding.\n",
    "# Where columns Geography, Tenure, Prod Number are “Counts data”, and only Geography columns \n",
    "# need to be handled by using One-Hot Encoding as well.\n"
   ]
  },
  {
   "cell_type": "code",
   "execution_count": 20,
   "metadata": {},
   "outputs": [],
   "source": [
    "# Data preprocessing: Drop irrelevant data of CustomerId column.\n",
    "\n",
    "df_churn = df_churn.drop([\"CustomerId\"], axis = 1)"
   ]
  },
  {
   "cell_type": "code",
   "execution_count": 21,
   "metadata": {},
   "outputs": [
    {
     "data": {
      "text/html": [
       "<div>\n",
       "<style scoped>\n",
       "    .dataframe tbody tr th:only-of-type {\n",
       "        vertical-align: middle;\n",
       "    }\n",
       "\n",
       "    .dataframe tbody tr th {\n",
       "        vertical-align: top;\n",
       "    }\n",
       "\n",
       "    .dataframe thead th {\n",
       "        text-align: right;\n",
       "    }\n",
       "</style>\n",
       "<table border=\"1\" class=\"dataframe\">\n",
       "  <thead>\n",
       "    <tr style=\"text-align: right;\">\n",
       "      <th></th>\n",
       "      <th>CredRate</th>\n",
       "      <th>Geography</th>\n",
       "      <th>Gender</th>\n",
       "      <th>Age</th>\n",
       "      <th>Tenure</th>\n",
       "      <th>Balance</th>\n",
       "      <th>Prod Number</th>\n",
       "      <th>HasCrCard</th>\n",
       "      <th>ActMem</th>\n",
       "      <th>EstimatedSalary</th>\n",
       "      <th>Exited</th>\n",
       "    </tr>\n",
       "  </thead>\n",
       "  <tbody>\n",
       "    <tr>\n",
       "      <th>0</th>\n",
       "      <td>619</td>\n",
       "      <td>France</td>\n",
       "      <td>Female</td>\n",
       "      <td>42.0</td>\n",
       "      <td>2</td>\n",
       "      <td>0.00</td>\n",
       "      <td>1</td>\n",
       "      <td>1</td>\n",
       "      <td>1</td>\n",
       "      <td>101348.88</td>\n",
       "      <td>1</td>\n",
       "    </tr>\n",
       "    <tr>\n",
       "      <th>1</th>\n",
       "      <td>608</td>\n",
       "      <td>Spain</td>\n",
       "      <td>Female</td>\n",
       "      <td>41.0</td>\n",
       "      <td>1</td>\n",
       "      <td>83807.86</td>\n",
       "      <td>1</td>\n",
       "      <td>0</td>\n",
       "      <td>1</td>\n",
       "      <td>112542.58</td>\n",
       "      <td>0</td>\n",
       "    </tr>\n",
       "    <tr>\n",
       "      <th>2</th>\n",
       "      <td>502</td>\n",
       "      <td>France</td>\n",
       "      <td>Female</td>\n",
       "      <td>42.0</td>\n",
       "      <td>8</td>\n",
       "      <td>159660.80</td>\n",
       "      <td>3</td>\n",
       "      <td>1</td>\n",
       "      <td>0</td>\n",
       "      <td>113931.57</td>\n",
       "      <td>1</td>\n",
       "    </tr>\n",
       "    <tr>\n",
       "      <th>3</th>\n",
       "      <td>699</td>\n",
       "      <td>France</td>\n",
       "      <td>Female</td>\n",
       "      <td>39.0</td>\n",
       "      <td>1</td>\n",
       "      <td>0.00</td>\n",
       "      <td>2</td>\n",
       "      <td>0</td>\n",
       "      <td>0</td>\n",
       "      <td>93826.63</td>\n",
       "      <td>0</td>\n",
       "    </tr>\n",
       "    <tr>\n",
       "      <th>4</th>\n",
       "      <td>850</td>\n",
       "      <td>Spain</td>\n",
       "      <td>Female</td>\n",
       "      <td>43.0</td>\n",
       "      <td>2</td>\n",
       "      <td>125510.82</td>\n",
       "      <td>1</td>\n",
       "      <td>1</td>\n",
       "      <td>1</td>\n",
       "      <td>79084.10</td>\n",
       "      <td>0</td>\n",
       "    </tr>\n",
       "    <tr>\n",
       "      <th>5</th>\n",
       "      <td>645</td>\n",
       "      <td>Spain</td>\n",
       "      <td>Male</td>\n",
       "      <td>44.0</td>\n",
       "      <td>8</td>\n",
       "      <td>113755.78</td>\n",
       "      <td>2</td>\n",
       "      <td>1</td>\n",
       "      <td>0</td>\n",
       "      <td>149756.71</td>\n",
       "      <td>1</td>\n",
       "    </tr>\n",
       "    <tr>\n",
       "      <th>6</th>\n",
       "      <td>822</td>\n",
       "      <td>France</td>\n",
       "      <td>NaN</td>\n",
       "      <td>50.0</td>\n",
       "      <td>7</td>\n",
       "      <td>0.00</td>\n",
       "      <td>2</td>\n",
       "      <td>1</td>\n",
       "      <td>1</td>\n",
       "      <td>10062.80</td>\n",
       "      <td>0</td>\n",
       "    </tr>\n",
       "    <tr>\n",
       "      <th>7</th>\n",
       "      <td>376</td>\n",
       "      <td>Germany</td>\n",
       "      <td>Female</td>\n",
       "      <td>29.0</td>\n",
       "      <td>4</td>\n",
       "      <td>115046.74</td>\n",
       "      <td>4</td>\n",
       "      <td>1</td>\n",
       "      <td>0</td>\n",
       "      <td>119346.88</td>\n",
       "      <td>1</td>\n",
       "    </tr>\n",
       "    <tr>\n",
       "      <th>8</th>\n",
       "      <td>501</td>\n",
       "      <td>France</td>\n",
       "      <td>Male</td>\n",
       "      <td>44.0</td>\n",
       "      <td>4</td>\n",
       "      <td>142051.07</td>\n",
       "      <td>2</td>\n",
       "      <td>0</td>\n",
       "      <td>1</td>\n",
       "      <td>74940.50</td>\n",
       "      <td>0</td>\n",
       "    </tr>\n",
       "    <tr>\n",
       "      <th>9</th>\n",
       "      <td>684</td>\n",
       "      <td>France</td>\n",
       "      <td>Male</td>\n",
       "      <td>27.0</td>\n",
       "      <td>2</td>\n",
       "      <td>134603.88</td>\n",
       "      <td>1</td>\n",
       "      <td>1</td>\n",
       "      <td>1</td>\n",
       "      <td>71725.73</td>\n",
       "      <td>0</td>\n",
       "    </tr>\n",
       "    <tr>\n",
       "      <th>10</th>\n",
       "      <td>528</td>\n",
       "      <td>France</td>\n",
       "      <td>Male</td>\n",
       "      <td>NaN</td>\n",
       "      <td>6</td>\n",
       "      <td>102016.72</td>\n",
       "      <td>2</td>\n",
       "      <td>0</td>\n",
       "      <td>0</td>\n",
       "      <td>80181.12</td>\n",
       "      <td>0</td>\n",
       "    </tr>\n",
       "    <tr>\n",
       "      <th>11</th>\n",
       "      <td>497</td>\n",
       "      <td>Spain</td>\n",
       "      <td>Male</td>\n",
       "      <td>NaN</td>\n",
       "      <td>3</td>\n",
       "      <td>0.00</td>\n",
       "      <td>2</td>\n",
       "      <td>1</td>\n",
       "      <td>0</td>\n",
       "      <td>76390.01</td>\n",
       "      <td>0</td>\n",
       "    </tr>\n",
       "    <tr>\n",
       "      <th>12</th>\n",
       "      <td>476</td>\n",
       "      <td>France</td>\n",
       "      <td>Female</td>\n",
       "      <td>NaN</td>\n",
       "      <td>10</td>\n",
       "      <td>0.00</td>\n",
       "      <td>2</td>\n",
       "      <td>1</td>\n",
       "      <td>0</td>\n",
       "      <td>26260.98</td>\n",
       "      <td>0</td>\n",
       "    </tr>\n",
       "    <tr>\n",
       "      <th>13</th>\n",
       "      <td>549</td>\n",
       "      <td>France</td>\n",
       "      <td>Female</td>\n",
       "      <td>25.0</td>\n",
       "      <td>5</td>\n",
       "      <td>0.00</td>\n",
       "      <td>2</td>\n",
       "      <td>0</td>\n",
       "      <td>0</td>\n",
       "      <td>190857.79</td>\n",
       "      <td>0</td>\n",
       "    </tr>\n",
       "    <tr>\n",
       "      <th>14</th>\n",
       "      <td>635</td>\n",
       "      <td>Spain</td>\n",
       "      <td>Female</td>\n",
       "      <td>35.0</td>\n",
       "      <td>7</td>\n",
       "      <td>0.00</td>\n",
       "      <td>2</td>\n",
       "      <td>1</td>\n",
       "      <td>1</td>\n",
       "      <td>65951.65</td>\n",
       "      <td>0</td>\n",
       "    </tr>\n",
       "  </tbody>\n",
       "</table>\n",
       "</div>"
      ],
      "text/plain": [
       "    CredRate Geography  Gender   Age  Tenure    Balance  Prod Number  \\\n",
       "0        619    France  Female  42.0       2       0.00            1   \n",
       "1        608     Spain  Female  41.0       1   83807.86            1   \n",
       "2        502    France  Female  42.0       8  159660.80            3   \n",
       "3        699    France  Female  39.0       1       0.00            2   \n",
       "4        850     Spain  Female  43.0       2  125510.82            1   \n",
       "5        645     Spain    Male  44.0       8  113755.78            2   \n",
       "6        822    France     NaN  50.0       7       0.00            2   \n",
       "7        376   Germany  Female  29.0       4  115046.74            4   \n",
       "8        501    France    Male  44.0       4  142051.07            2   \n",
       "9        684    France    Male  27.0       2  134603.88            1   \n",
       "10       528    France    Male   NaN       6  102016.72            2   \n",
       "11       497     Spain    Male   NaN       3       0.00            2   \n",
       "12       476    France  Female   NaN      10       0.00            2   \n",
       "13       549    France  Female  25.0       5       0.00            2   \n",
       "14       635     Spain  Female  35.0       7       0.00            2   \n",
       "\n",
       "    HasCrCard  ActMem  EstimatedSalary  Exited  \n",
       "0           1       1        101348.88       1  \n",
       "1           0       1        112542.58       0  \n",
       "2           1       0        113931.57       1  \n",
       "3           0       0         93826.63       0  \n",
       "4           1       1         79084.10       0  \n",
       "5           1       0        149756.71       1  \n",
       "6           1       1         10062.80       0  \n",
       "7           1       0        119346.88       1  \n",
       "8           0       1         74940.50       0  \n",
       "9           1       1         71725.73       0  \n",
       "10          0       0         80181.12       0  \n",
       "11          1       0         76390.01       0  \n",
       "12          1       0         26260.98       0  \n",
       "13          0       0        190857.79       0  \n",
       "14          1       1         65951.65       0  "
      ]
     },
     "execution_count": 21,
     "metadata": {},
     "output_type": "execute_result"
    }
   ],
   "source": [
    "# Viewing data with \".head(15)\", row index 6 having missing Gender (NaN) and row index \n",
    "# 10 to 12 with missing Age (NaN).\n",
    "\n",
    "df_churn.head(15)"
   ]
  },
  {
   "cell_type": "code",
   "execution_count": 22,
   "metadata": {},
   "outputs": [],
   "source": [
    "# Data preprocessing: Handling Missing Values on Age and EstimatedSalary - replace by Mean.\n",
    "\n",
    "from sklearn.impute import SimpleImputer\n",
    "\n",
    "imputer = SimpleImputer(missing_values=np.nan, strategy='mean')\n",
    "imputer.fit(df_churn[['Age', 'EstimatedSalary']]) \n",
    "df_churn[['Age', 'EstimatedSalary']] = imputer.transform(df_churn[['Age', 'EstimatedSalary']])   \n"
   ]
  },
  {
   "cell_type": "code",
   "execution_count": 23,
   "metadata": {},
   "outputs": [
    {
     "data": {
      "text/plain": [
       "Male      5453\n",
       "Female    4543\n",
       "Name: Gender, dtype: int64"
      ]
     },
     "execution_count": 23,
     "metadata": {},
     "output_type": "execute_result"
    }
   ],
   "source": [
    "# Data preprocessing: Handling missing data for Gender column - replace by Frequency (Mode).\n",
    "## Perform a count to check on highest frequency, Male have higher frequency (20% more).\n",
    "\n",
    "df_churn.Gender.value_counts()    # 5453 - 4543 = 910 / 4543 = 0.2003 = 20% (male 20% higher)"
   ]
  },
  {
   "cell_type": "code",
   "execution_count": 24,
   "metadata": {},
   "outputs": [],
   "source": [
    "# Fill the missing \"Gender\" with \"Male\".\n",
    "\n",
    "df_churn['Gender'].replace(np.nan, \"Male\", inplace=True) "
   ]
  },
  {
   "cell_type": "code",
   "execution_count": 25,
   "metadata": {},
   "outputs": [
    {
     "name": "stdout",
     "output_type": "stream",
     "text": [
      "<class 'pandas.core.frame.DataFrame'>\n",
      "RangeIndex: 10000 entries, 0 to 9999\n",
      "Data columns (total 11 columns):\n",
      " #   Column           Non-Null Count  Dtype  \n",
      "---  ------           --------------  -----  \n",
      " 0   CredRate         10000 non-null  int64  \n",
      " 1   Geography        10000 non-null  object \n",
      " 2   Gender           10000 non-null  object \n",
      " 3   Age              10000 non-null  float64\n",
      " 4   Tenure           10000 non-null  int64  \n",
      " 5   Balance          10000 non-null  float64\n",
      " 6   Prod Number      10000 non-null  int64  \n",
      " 7   HasCrCard        10000 non-null  int64  \n",
      " 8   ActMem           10000 non-null  int64  \n",
      " 9   EstimatedSalary  10000 non-null  float64\n",
      " 10  Exited           10000 non-null  int64  \n",
      "dtypes: float64(3), int64(6), object(2)\n",
      "memory usage: 859.5+ KB\n"
     ]
    }
   ],
   "source": [
    "df_churn.info()     # No more missing data in the Dataframe."
   ]
  },
  {
   "cell_type": "code",
   "execution_count": 26,
   "metadata": {},
   "outputs": [
    {
     "data": {
      "text/html": [
       "<div>\n",
       "<style scoped>\n",
       "    .dataframe tbody tr th:only-of-type {\n",
       "        vertical-align: middle;\n",
       "    }\n",
       "\n",
       "    .dataframe tbody tr th {\n",
       "        vertical-align: top;\n",
       "    }\n",
       "\n",
       "    .dataframe thead th {\n",
       "        text-align: right;\n",
       "    }\n",
       "</style>\n",
       "<table border=\"1\" class=\"dataframe\">\n",
       "  <thead>\n",
       "    <tr style=\"text-align: right;\">\n",
       "      <th></th>\n",
       "      <th>CredRate</th>\n",
       "      <th>Geography</th>\n",
       "      <th>Gender</th>\n",
       "      <th>Age</th>\n",
       "      <th>Tenure</th>\n",
       "      <th>Balance</th>\n",
       "      <th>Prod Number</th>\n",
       "      <th>HasCrCard</th>\n",
       "      <th>ActMem</th>\n",
       "      <th>EstimatedSalary</th>\n",
       "      <th>Exited</th>\n",
       "    </tr>\n",
       "  </thead>\n",
       "  <tbody>\n",
       "    <tr>\n",
       "      <th>0</th>\n",
       "      <td>619</td>\n",
       "      <td>France</td>\n",
       "      <td>Female</td>\n",
       "      <td>42.000000</td>\n",
       "      <td>2</td>\n",
       "      <td>0.00</td>\n",
       "      <td>1</td>\n",
       "      <td>1</td>\n",
       "      <td>1</td>\n",
       "      <td>101348.88</td>\n",
       "      <td>1</td>\n",
       "    </tr>\n",
       "    <tr>\n",
       "      <th>1</th>\n",
       "      <td>608</td>\n",
       "      <td>Spain</td>\n",
       "      <td>Female</td>\n",
       "      <td>41.000000</td>\n",
       "      <td>1</td>\n",
       "      <td>83807.86</td>\n",
       "      <td>1</td>\n",
       "      <td>0</td>\n",
       "      <td>1</td>\n",
       "      <td>112542.58</td>\n",
       "      <td>0</td>\n",
       "    </tr>\n",
       "    <tr>\n",
       "      <th>2</th>\n",
       "      <td>502</td>\n",
       "      <td>France</td>\n",
       "      <td>Female</td>\n",
       "      <td>42.000000</td>\n",
       "      <td>8</td>\n",
       "      <td>159660.80</td>\n",
       "      <td>3</td>\n",
       "      <td>1</td>\n",
       "      <td>0</td>\n",
       "      <td>113931.57</td>\n",
       "      <td>1</td>\n",
       "    </tr>\n",
       "    <tr>\n",
       "      <th>3</th>\n",
       "      <td>699</td>\n",
       "      <td>France</td>\n",
       "      <td>Female</td>\n",
       "      <td>39.000000</td>\n",
       "      <td>1</td>\n",
       "      <td>0.00</td>\n",
       "      <td>2</td>\n",
       "      <td>0</td>\n",
       "      <td>0</td>\n",
       "      <td>93826.63</td>\n",
       "      <td>0</td>\n",
       "    </tr>\n",
       "    <tr>\n",
       "      <th>4</th>\n",
       "      <td>850</td>\n",
       "      <td>Spain</td>\n",
       "      <td>Female</td>\n",
       "      <td>43.000000</td>\n",
       "      <td>2</td>\n",
       "      <td>125510.82</td>\n",
       "      <td>1</td>\n",
       "      <td>1</td>\n",
       "      <td>1</td>\n",
       "      <td>79084.10</td>\n",
       "      <td>0</td>\n",
       "    </tr>\n",
       "    <tr>\n",
       "      <th>5</th>\n",
       "      <td>645</td>\n",
       "      <td>Spain</td>\n",
       "      <td>Male</td>\n",
       "      <td>44.000000</td>\n",
       "      <td>8</td>\n",
       "      <td>113755.78</td>\n",
       "      <td>2</td>\n",
       "      <td>1</td>\n",
       "      <td>0</td>\n",
       "      <td>149756.71</td>\n",
       "      <td>1</td>\n",
       "    </tr>\n",
       "    <tr>\n",
       "      <th>6</th>\n",
       "      <td>822</td>\n",
       "      <td>France</td>\n",
       "      <td>Male</td>\n",
       "      <td>50.000000</td>\n",
       "      <td>7</td>\n",
       "      <td>0.00</td>\n",
       "      <td>2</td>\n",
       "      <td>1</td>\n",
       "      <td>1</td>\n",
       "      <td>10062.80</td>\n",
       "      <td>0</td>\n",
       "    </tr>\n",
       "    <tr>\n",
       "      <th>7</th>\n",
       "      <td>376</td>\n",
       "      <td>Germany</td>\n",
       "      <td>Female</td>\n",
       "      <td>29.000000</td>\n",
       "      <td>4</td>\n",
       "      <td>115046.74</td>\n",
       "      <td>4</td>\n",
       "      <td>1</td>\n",
       "      <td>0</td>\n",
       "      <td>119346.88</td>\n",
       "      <td>1</td>\n",
       "    </tr>\n",
       "    <tr>\n",
       "      <th>8</th>\n",
       "      <td>501</td>\n",
       "      <td>France</td>\n",
       "      <td>Male</td>\n",
       "      <td>44.000000</td>\n",
       "      <td>4</td>\n",
       "      <td>142051.07</td>\n",
       "      <td>2</td>\n",
       "      <td>0</td>\n",
       "      <td>1</td>\n",
       "      <td>74940.50</td>\n",
       "      <td>0</td>\n",
       "    </tr>\n",
       "    <tr>\n",
       "      <th>9</th>\n",
       "      <td>684</td>\n",
       "      <td>France</td>\n",
       "      <td>Male</td>\n",
       "      <td>27.000000</td>\n",
       "      <td>2</td>\n",
       "      <td>134603.88</td>\n",
       "      <td>1</td>\n",
       "      <td>1</td>\n",
       "      <td>1</td>\n",
       "      <td>71725.73</td>\n",
       "      <td>0</td>\n",
       "    </tr>\n",
       "    <tr>\n",
       "      <th>10</th>\n",
       "      <td>528</td>\n",
       "      <td>France</td>\n",
       "      <td>Male</td>\n",
       "      <td>38.925255</td>\n",
       "      <td>6</td>\n",
       "      <td>102016.72</td>\n",
       "      <td>2</td>\n",
       "      <td>0</td>\n",
       "      <td>0</td>\n",
       "      <td>80181.12</td>\n",
       "      <td>0</td>\n",
       "    </tr>\n",
       "    <tr>\n",
       "      <th>11</th>\n",
       "      <td>497</td>\n",
       "      <td>Spain</td>\n",
       "      <td>Male</td>\n",
       "      <td>38.925255</td>\n",
       "      <td>3</td>\n",
       "      <td>0.00</td>\n",
       "      <td>2</td>\n",
       "      <td>1</td>\n",
       "      <td>0</td>\n",
       "      <td>76390.01</td>\n",
       "      <td>0</td>\n",
       "    </tr>\n",
       "    <tr>\n",
       "      <th>12</th>\n",
       "      <td>476</td>\n",
       "      <td>France</td>\n",
       "      <td>Female</td>\n",
       "      <td>38.925255</td>\n",
       "      <td>10</td>\n",
       "      <td>0.00</td>\n",
       "      <td>2</td>\n",
       "      <td>1</td>\n",
       "      <td>0</td>\n",
       "      <td>26260.98</td>\n",
       "      <td>0</td>\n",
       "    </tr>\n",
       "    <tr>\n",
       "      <th>13</th>\n",
       "      <td>549</td>\n",
       "      <td>France</td>\n",
       "      <td>Female</td>\n",
       "      <td>25.000000</td>\n",
       "      <td>5</td>\n",
       "      <td>0.00</td>\n",
       "      <td>2</td>\n",
       "      <td>0</td>\n",
       "      <td>0</td>\n",
       "      <td>190857.79</td>\n",
       "      <td>0</td>\n",
       "    </tr>\n",
       "    <tr>\n",
       "      <th>14</th>\n",
       "      <td>635</td>\n",
       "      <td>Spain</td>\n",
       "      <td>Female</td>\n",
       "      <td>35.000000</td>\n",
       "      <td>7</td>\n",
       "      <td>0.00</td>\n",
       "      <td>2</td>\n",
       "      <td>1</td>\n",
       "      <td>1</td>\n",
       "      <td>65951.65</td>\n",
       "      <td>0</td>\n",
       "    </tr>\n",
       "  </tbody>\n",
       "</table>\n",
       "</div>"
      ],
      "text/plain": [
       "    CredRate Geography  Gender        Age  Tenure    Balance  Prod Number  \\\n",
       "0        619    France  Female  42.000000       2       0.00            1   \n",
       "1        608     Spain  Female  41.000000       1   83807.86            1   \n",
       "2        502    France  Female  42.000000       8  159660.80            3   \n",
       "3        699    France  Female  39.000000       1       0.00            2   \n",
       "4        850     Spain  Female  43.000000       2  125510.82            1   \n",
       "5        645     Spain    Male  44.000000       8  113755.78            2   \n",
       "6        822    France    Male  50.000000       7       0.00            2   \n",
       "7        376   Germany  Female  29.000000       4  115046.74            4   \n",
       "8        501    France    Male  44.000000       4  142051.07            2   \n",
       "9        684    France    Male  27.000000       2  134603.88            1   \n",
       "10       528    France    Male  38.925255       6  102016.72            2   \n",
       "11       497     Spain    Male  38.925255       3       0.00            2   \n",
       "12       476    France  Female  38.925255      10       0.00            2   \n",
       "13       549    France  Female  25.000000       5       0.00            2   \n",
       "14       635     Spain  Female  35.000000       7       0.00            2   \n",
       "\n",
       "    HasCrCard  ActMem  EstimatedSalary  Exited  \n",
       "0           1       1        101348.88       1  \n",
       "1           0       1        112542.58       0  \n",
       "2           1       0        113931.57       1  \n",
       "3           0       0         93826.63       0  \n",
       "4           1       1         79084.10       0  \n",
       "5           1       0        149756.71       1  \n",
       "6           1       1         10062.80       0  \n",
       "7           1       0        119346.88       1  \n",
       "8           0       1         74940.50       0  \n",
       "9           1       1         71725.73       0  \n",
       "10          0       0         80181.12       0  \n",
       "11          1       0         76390.01       0  \n",
       "12          1       0         26260.98       0  \n",
       "13          0       0        190857.79       0  \n",
       "14          1       1         65951.65       0  "
      ]
     },
     "execution_count": 26,
     "metadata": {},
     "output_type": "execute_result"
    }
   ],
   "source": [
    "df_churn.head(15)    # Check on row index 6 and 10 to 12."
   ]
  },
  {
   "cell_type": "code",
   "execution_count": 27,
   "metadata": {},
   "outputs": [
    {
     "data": {
      "image/png": "[encoded data removed]",
      "text/plain": [
       "<Figure size 576x360 with 1 Axes>"
      ]
     },
     "metadata": {
      "needs_background": "light"
     },
     "output_type": "display_data"
    }
   ],
   "source": [
    "# Visualize missing data with Heatmap - No missing data as only one colour in the chart.\n",
    "\n",
    "figure = plt.figure(figsize=(8,5))\n",
    "sns.heatmap(df_churn.isnull(), cbar=False);"
   ]
  },
  {
   "cell_type": "code",
   "execution_count": 28,
   "metadata": {},
   "outputs": [
    {
     "data": {
      "text/html": [
       "<div>\n",
       "<style scoped>\n",
       "    .dataframe tbody tr th:only-of-type {\n",
       "        vertical-align: middle;\n",
       "    }\n",
       "\n",
       "    .dataframe tbody tr th {\n",
       "        vertical-align: top;\n",
       "    }\n",
       "\n",
       "    .dataframe thead th {\n",
       "        text-align: right;\n",
       "    }\n",
       "</style>\n",
       "<table border=\"1\" class=\"dataframe\">\n",
       "  <thead>\n",
       "    <tr style=\"text-align: right;\">\n",
       "      <th></th>\n",
       "      <th>CredRate</th>\n",
       "      <th>Age</th>\n",
       "      <th>Tenure</th>\n",
       "      <th>Balance</th>\n",
       "      <th>Prod Number</th>\n",
       "      <th>HasCrCard</th>\n",
       "      <th>ActMem</th>\n",
       "      <th>EstimatedSalary</th>\n",
       "      <th>Exited</th>\n",
       "    </tr>\n",
       "  </thead>\n",
       "  <tbody>\n",
       "    <tr>\n",
       "      <th>count</th>\n",
       "      <td>10000.000000</td>\n",
       "      <td>10000.000000</td>\n",
       "      <td>10000.000000</td>\n",
       "      <td>10000.000000</td>\n",
       "      <td>10000.000000</td>\n",
       "      <td>10000.00000</td>\n",
       "      <td>10000.000000</td>\n",
       "      <td>10000.000000</td>\n",
       "      <td>10000.000000</td>\n",
       "    </tr>\n",
       "    <tr>\n",
       "      <th>mean</th>\n",
       "      <td>650.528800</td>\n",
       "      <td>38.925255</td>\n",
       "      <td>5.012800</td>\n",
       "      <td>76485.889288</td>\n",
       "      <td>1.530200</td>\n",
       "      <td>0.70550</td>\n",
       "      <td>0.515100</td>\n",
       "      <td>100074.744083</td>\n",
       "      <td>0.203700</td>\n",
       "    </tr>\n",
       "    <tr>\n",
       "      <th>std</th>\n",
       "      <td>96.653299</td>\n",
       "      <td>10.486101</td>\n",
       "      <td>2.892174</td>\n",
       "      <td>62397.405202</td>\n",
       "      <td>0.581654</td>\n",
       "      <td>0.45584</td>\n",
       "      <td>0.499797</td>\n",
       "      <td>57504.269099</td>\n",
       "      <td>0.402769</td>\n",
       "    </tr>\n",
       "    <tr>\n",
       "      <th>min</th>\n",
       "      <td>350.000000</td>\n",
       "      <td>18.000000</td>\n",
       "      <td>0.000000</td>\n",
       "      <td>0.000000</td>\n",
       "      <td>1.000000</td>\n",
       "      <td>0.00000</td>\n",
       "      <td>0.000000</td>\n",
       "      <td>11.580000</td>\n",
       "      <td>0.000000</td>\n",
       "    </tr>\n",
       "    <tr>\n",
       "      <th>25%</th>\n",
       "      <td>584.000000</td>\n",
       "      <td>32.000000</td>\n",
       "      <td>3.000000</td>\n",
       "      <td>0.000000</td>\n",
       "      <td>1.000000</td>\n",
       "      <td>0.00000</td>\n",
       "      <td>0.000000</td>\n",
       "      <td>51002.110000</td>\n",
       "      <td>0.000000</td>\n",
       "    </tr>\n",
       "    <tr>\n",
       "      <th>50%</th>\n",
       "      <td>652.000000</td>\n",
       "      <td>37.000000</td>\n",
       "      <td>5.000000</td>\n",
       "      <td>97198.540000</td>\n",
       "      <td>1.000000</td>\n",
       "      <td>1.00000</td>\n",
       "      <td>1.000000</td>\n",
       "      <td>100134.325000</td>\n",
       "      <td>0.000000</td>\n",
       "    </tr>\n",
       "    <tr>\n",
       "      <th>75%</th>\n",
       "      <td>718.000000</td>\n",
       "      <td>44.000000</td>\n",
       "      <td>7.000000</td>\n",
       "      <td>127644.240000</td>\n",
       "      <td>2.000000</td>\n",
       "      <td>1.00000</td>\n",
       "      <td>1.000000</td>\n",
       "      <td>149382.097500</td>\n",
       "      <td>0.000000</td>\n",
       "    </tr>\n",
       "    <tr>\n",
       "      <th>max</th>\n",
       "      <td>850.000000</td>\n",
       "      <td>92.000000</td>\n",
       "      <td>10.000000</td>\n",
       "      <td>250898.090000</td>\n",
       "      <td>4.000000</td>\n",
       "      <td>1.00000</td>\n",
       "      <td>1.000000</td>\n",
       "      <td>199992.480000</td>\n",
       "      <td>1.000000</td>\n",
       "    </tr>\n",
       "  </tbody>\n",
       "</table>\n",
       "</div>"
      ],
      "text/plain": [
       "           CredRate           Age        Tenure        Balance   Prod Number  \\\n",
       "count  10000.000000  10000.000000  10000.000000   10000.000000  10000.000000   \n",
       "mean     650.528800     38.925255      5.012800   76485.889288      1.530200   \n",
       "std       96.653299     10.486101      2.892174   62397.405202      0.581654   \n",
       "min      350.000000     18.000000      0.000000       0.000000      1.000000   \n",
       "25%      584.000000     32.000000      3.000000       0.000000      1.000000   \n",
       "50%      652.000000     37.000000      5.000000   97198.540000      1.000000   \n",
       "75%      718.000000     44.000000      7.000000  127644.240000      2.000000   \n",
       "max      850.000000     92.000000     10.000000  250898.090000      4.000000   \n",
       "\n",
       "         HasCrCard        ActMem  EstimatedSalary        Exited  \n",
       "count  10000.00000  10000.000000     10000.000000  10000.000000  \n",
       "mean       0.70550      0.515100    100074.744083      0.203700  \n",
       "std        0.45584      0.499797     57504.269099      0.402769  \n",
       "min        0.00000      0.000000        11.580000      0.000000  \n",
       "25%        0.00000      0.000000     51002.110000      0.000000  \n",
       "50%        1.00000      1.000000    100134.325000      0.000000  \n",
       "75%        1.00000      1.000000    149382.097500      0.000000  \n",
       "max        1.00000      1.000000    199992.480000      1.000000  "
      ]
     },
     "execution_count": 28,
     "metadata": {},
     "output_type": "execute_result"
    }
   ],
   "source": [
    "df_churn.describe()    # Running .describe() to check for Basic Statistic."
   ]
  },
  {
   "cell_type": "code",
   "execution_count": null,
   "metadata": {},
   "outputs": [],
   "source": []
  },
  {
   "cell_type": "code",
   "execution_count": 29,
   "metadata": {},
   "outputs": [],
   "source": [
    "# Data preprocessing: Handle \"Object\" type of Geography and Gender columns with One Hot Encoding.\n",
    "\n",
    "train_df = pd.get_dummies(df_churn, drop_first = True)"
   ]
  },
  {
   "cell_type": "code",
   "execution_count": 30,
   "metadata": {},
   "outputs": [
    {
     "data": {
      "text/html": [
       "<div>\n",
       "<style scoped>\n",
       "    .dataframe tbody tr th:only-of-type {\n",
       "        vertical-align: middle;\n",
       "    }\n",
       "\n",
       "    .dataframe tbody tr th {\n",
       "        vertical-align: top;\n",
       "    }\n",
       "\n",
       "    .dataframe thead th {\n",
       "        text-align: right;\n",
       "    }\n",
       "</style>\n",
       "<table border=\"1\" class=\"dataframe\">\n",
       "  <thead>\n",
       "    <tr style=\"text-align: right;\">\n",
       "      <th></th>\n",
       "      <th>CredRate</th>\n",
       "      <th>Age</th>\n",
       "      <th>Tenure</th>\n",
       "      <th>Balance</th>\n",
       "      <th>Prod Number</th>\n",
       "      <th>HasCrCard</th>\n",
       "      <th>ActMem</th>\n",
       "      <th>EstimatedSalary</th>\n",
       "      <th>Exited</th>\n",
       "      <th>Geography_Germany</th>\n",
       "      <th>Geography_Spain</th>\n",
       "      <th>Gender_Male</th>\n",
       "    </tr>\n",
       "  </thead>\n",
       "  <tbody>\n",
       "    <tr>\n",
       "      <th>0</th>\n",
       "      <td>619</td>\n",
       "      <td>42.0</td>\n",
       "      <td>2</td>\n",
       "      <td>0.00</td>\n",
       "      <td>1</td>\n",
       "      <td>1</td>\n",
       "      <td>1</td>\n",
       "      <td>101348.88</td>\n",
       "      <td>1</td>\n",
       "      <td>0</td>\n",
       "      <td>0</td>\n",
       "      <td>0</td>\n",
       "    </tr>\n",
       "    <tr>\n",
       "      <th>1</th>\n",
       "      <td>608</td>\n",
       "      <td>41.0</td>\n",
       "      <td>1</td>\n",
       "      <td>83807.86</td>\n",
       "      <td>1</td>\n",
       "      <td>0</td>\n",
       "      <td>1</td>\n",
       "      <td>112542.58</td>\n",
       "      <td>0</td>\n",
       "      <td>0</td>\n",
       "      <td>1</td>\n",
       "      <td>0</td>\n",
       "    </tr>\n",
       "    <tr>\n",
       "      <th>2</th>\n",
       "      <td>502</td>\n",
       "      <td>42.0</td>\n",
       "      <td>8</td>\n",
       "      <td>159660.80</td>\n",
       "      <td>3</td>\n",
       "      <td>1</td>\n",
       "      <td>0</td>\n",
       "      <td>113931.57</td>\n",
       "      <td>1</td>\n",
       "      <td>0</td>\n",
       "      <td>0</td>\n",
       "      <td>0</td>\n",
       "    </tr>\n",
       "    <tr>\n",
       "      <th>3</th>\n",
       "      <td>699</td>\n",
       "      <td>39.0</td>\n",
       "      <td>1</td>\n",
       "      <td>0.00</td>\n",
       "      <td>2</td>\n",
       "      <td>0</td>\n",
       "      <td>0</td>\n",
       "      <td>93826.63</td>\n",
       "      <td>0</td>\n",
       "      <td>0</td>\n",
       "      <td>0</td>\n",
       "      <td>0</td>\n",
       "    </tr>\n",
       "    <tr>\n",
       "      <th>4</th>\n",
       "      <td>850</td>\n",
       "      <td>43.0</td>\n",
       "      <td>2</td>\n",
       "      <td>125510.82</td>\n",
       "      <td>1</td>\n",
       "      <td>1</td>\n",
       "      <td>1</td>\n",
       "      <td>79084.10</td>\n",
       "      <td>0</td>\n",
       "      <td>0</td>\n",
       "      <td>1</td>\n",
       "      <td>0</td>\n",
       "    </tr>\n",
       "  </tbody>\n",
       "</table>\n",
       "</div>"
      ],
      "text/plain": [
       "   CredRate   Age  Tenure    Balance  Prod Number  HasCrCard  ActMem  \\\n",
       "0       619  42.0       2       0.00            1          1       1   \n",
       "1       608  41.0       1   83807.86            1          0       1   \n",
       "2       502  42.0       8  159660.80            3          1       0   \n",
       "3       699  39.0       1       0.00            2          0       0   \n",
       "4       850  43.0       2  125510.82            1          1       1   \n",
       "\n",
       "   EstimatedSalary  Exited  Geography_Germany  Geography_Spain  Gender_Male  \n",
       "0        101348.88       1                  0                0            0  \n",
       "1        112542.58       0                  0                1            0  \n",
       "2        113931.57       1                  0                0            0  \n",
       "3         93826.63       0                  0                0            0  \n",
       "4         79084.10       0                  0                1            0  "
      ]
     },
     "execution_count": 30,
     "metadata": {},
     "output_type": "execute_result"
    }
   ],
   "source": [
    "train_df.head()"
   ]
  },
  {
   "cell_type": "code",
   "execution_count": 31,
   "metadata": {},
   "outputs": [],
   "source": [
    "# Data preprocessing: Splitting the data into Features and Target.\n",
    "\n",
    "features = train_df.drop(['Exited'], axis=1)"
   ]
  },
  {
   "cell_type": "code",
   "execution_count": 32,
   "metadata": {},
   "outputs": [
    {
     "data": {
      "text/html": [
       "<div>\n",
       "<style scoped>\n",
       "    .dataframe tbody tr th:only-of-type {\n",
       "        vertical-align: middle;\n",
       "    }\n",
       "\n",
       "    .dataframe tbody tr th {\n",
       "        vertical-align: top;\n",
       "    }\n",
       "\n",
       "    .dataframe thead th {\n",
       "        text-align: right;\n",
       "    }\n",
       "</style>\n",
       "<table border=\"1\" class=\"dataframe\">\n",
       "  <thead>\n",
       "    <tr style=\"text-align: right;\">\n",
       "      <th></th>\n",
       "      <th>CredRate</th>\n",
       "      <th>Age</th>\n",
       "      <th>Tenure</th>\n",
       "      <th>Balance</th>\n",
       "      <th>Prod Number</th>\n",
       "      <th>HasCrCard</th>\n",
       "      <th>ActMem</th>\n",
       "      <th>EstimatedSalary</th>\n",
       "      <th>Geography_Germany</th>\n",
       "      <th>Geography_Spain</th>\n",
       "      <th>Gender_Male</th>\n",
       "    </tr>\n",
       "  </thead>\n",
       "  <tbody>\n",
       "    <tr>\n",
       "      <th>0</th>\n",
       "      <td>619</td>\n",
       "      <td>42.0</td>\n",
       "      <td>2</td>\n",
       "      <td>0.00</td>\n",
       "      <td>1</td>\n",
       "      <td>1</td>\n",
       "      <td>1</td>\n",
       "      <td>101348.88</td>\n",
       "      <td>0</td>\n",
       "      <td>0</td>\n",
       "      <td>0</td>\n",
       "    </tr>\n",
       "    <tr>\n",
       "      <th>1</th>\n",
       "      <td>608</td>\n",
       "      <td>41.0</td>\n",
       "      <td>1</td>\n",
       "      <td>83807.86</td>\n",
       "      <td>1</td>\n",
       "      <td>0</td>\n",
       "      <td>1</td>\n",
       "      <td>112542.58</td>\n",
       "      <td>0</td>\n",
       "      <td>1</td>\n",
       "      <td>0</td>\n",
       "    </tr>\n",
       "    <tr>\n",
       "      <th>2</th>\n",
       "      <td>502</td>\n",
       "      <td>42.0</td>\n",
       "      <td>8</td>\n",
       "      <td>159660.80</td>\n",
       "      <td>3</td>\n",
       "      <td>1</td>\n",
       "      <td>0</td>\n",
       "      <td>113931.57</td>\n",
       "      <td>0</td>\n",
       "      <td>0</td>\n",
       "      <td>0</td>\n",
       "    </tr>\n",
       "    <tr>\n",
       "      <th>3</th>\n",
       "      <td>699</td>\n",
       "      <td>39.0</td>\n",
       "      <td>1</td>\n",
       "      <td>0.00</td>\n",
       "      <td>2</td>\n",
       "      <td>0</td>\n",
       "      <td>0</td>\n",
       "      <td>93826.63</td>\n",
       "      <td>0</td>\n",
       "      <td>0</td>\n",
       "      <td>0</td>\n",
       "    </tr>\n",
       "    <tr>\n",
       "      <th>4</th>\n",
       "      <td>850</td>\n",
       "      <td>43.0</td>\n",
       "      <td>2</td>\n",
       "      <td>125510.82</td>\n",
       "      <td>1</td>\n",
       "      <td>1</td>\n",
       "      <td>1</td>\n",
       "      <td>79084.10</td>\n",
       "      <td>0</td>\n",
       "      <td>1</td>\n",
       "      <td>0</td>\n",
       "    </tr>\n",
       "    <tr>\n",
       "      <th>...</th>\n",
       "      <td>...</td>\n",
       "      <td>...</td>\n",
       "      <td>...</td>\n",
       "      <td>...</td>\n",
       "      <td>...</td>\n",
       "      <td>...</td>\n",
       "      <td>...</td>\n",
       "      <td>...</td>\n",
       "      <td>...</td>\n",
       "      <td>...</td>\n",
       "      <td>...</td>\n",
       "    </tr>\n",
       "    <tr>\n",
       "      <th>9995</th>\n",
       "      <td>771</td>\n",
       "      <td>39.0</td>\n",
       "      <td>5</td>\n",
       "      <td>0.00</td>\n",
       "      <td>2</td>\n",
       "      <td>1</td>\n",
       "      <td>0</td>\n",
       "      <td>96270.64</td>\n",
       "      <td>0</td>\n",
       "      <td>0</td>\n",
       "      <td>1</td>\n",
       "    </tr>\n",
       "    <tr>\n",
       "      <th>9996</th>\n",
       "      <td>516</td>\n",
       "      <td>35.0</td>\n",
       "      <td>10</td>\n",
       "      <td>57369.61</td>\n",
       "      <td>1</td>\n",
       "      <td>1</td>\n",
       "      <td>1</td>\n",
       "      <td>101699.77</td>\n",
       "      <td>0</td>\n",
       "      <td>0</td>\n",
       "      <td>1</td>\n",
       "    </tr>\n",
       "    <tr>\n",
       "      <th>9997</th>\n",
       "      <td>709</td>\n",
       "      <td>36.0</td>\n",
       "      <td>7</td>\n",
       "      <td>0.00</td>\n",
       "      <td>1</td>\n",
       "      <td>0</td>\n",
       "      <td>1</td>\n",
       "      <td>42085.58</td>\n",
       "      <td>0</td>\n",
       "      <td>0</td>\n",
       "      <td>0</td>\n",
       "    </tr>\n",
       "    <tr>\n",
       "      <th>9998</th>\n",
       "      <td>772</td>\n",
       "      <td>42.0</td>\n",
       "      <td>3</td>\n",
       "      <td>75075.31</td>\n",
       "      <td>2</td>\n",
       "      <td>1</td>\n",
       "      <td>0</td>\n",
       "      <td>92888.52</td>\n",
       "      <td>1</td>\n",
       "      <td>0</td>\n",
       "      <td>1</td>\n",
       "    </tr>\n",
       "    <tr>\n",
       "      <th>9999</th>\n",
       "      <td>792</td>\n",
       "      <td>28.0</td>\n",
       "      <td>4</td>\n",
       "      <td>130142.79</td>\n",
       "      <td>1</td>\n",
       "      <td>1</td>\n",
       "      <td>0</td>\n",
       "      <td>38190.78</td>\n",
       "      <td>0</td>\n",
       "      <td>0</td>\n",
       "      <td>0</td>\n",
       "    </tr>\n",
       "  </tbody>\n",
       "</table>\n",
       "<p>10000 rows × 11 columns</p>\n",
       "</div>"
      ],
      "text/plain": [
       "      CredRate   Age  Tenure    Balance  Prod Number  HasCrCard  ActMem  \\\n",
       "0          619  42.0       2       0.00            1          1       1   \n",
       "1          608  41.0       1   83807.86            1          0       1   \n",
       "2          502  42.0       8  159660.80            3          1       0   \n",
       "3          699  39.0       1       0.00            2          0       0   \n",
       "4          850  43.0       2  125510.82            1          1       1   \n",
       "...        ...   ...     ...        ...          ...        ...     ...   \n",
       "9995       771  39.0       5       0.00            2          1       0   \n",
       "9996       516  35.0      10   57369.61            1          1       1   \n",
       "9997       709  36.0       7       0.00            1          0       1   \n",
       "9998       772  42.0       3   75075.31            2          1       0   \n",
       "9999       792  28.0       4  130142.79            1          1       0   \n",
       "\n",
       "      EstimatedSalary  Geography_Germany  Geography_Spain  Gender_Male  \n",
       "0           101348.88                  0                0            0  \n",
       "1           112542.58                  0                1            0  \n",
       "2           113931.57                  0                0            0  \n",
       "3            93826.63                  0                0            0  \n",
       "4            79084.10                  0                1            0  \n",
       "...               ...                ...              ...          ...  \n",
       "9995         96270.64                  0                0            1  \n",
       "9996        101699.77                  0                0            1  \n",
       "9997         42085.58                  0                0            0  \n",
       "9998         92888.52                  1                0            1  \n",
       "9999         38190.78                  0                0            0  \n",
       "\n",
       "[10000 rows x 11 columns]"
      ]
     },
     "execution_count": 32,
     "metadata": {},
     "output_type": "execute_result"
    }
   ],
   "source": [
    "features"
   ]
  },
  {
   "cell_type": "code",
   "execution_count": 33,
   "metadata": {},
   "outputs": [],
   "source": [
    "target = train_df.Exited"
   ]
  },
  {
   "cell_type": "code",
   "execution_count": 34,
   "metadata": {},
   "outputs": [
    {
     "data": {
      "text/plain": [
       "0    0.7963\n",
       "1    0.2037\n",
       "Name: Exited, dtype: float64"
      ]
     },
     "execution_count": 34,
     "metadata": {},
     "output_type": "execute_result"
    }
   ],
   "source": [
    "target.value_counts(1)"
   ]
  },
  {
   "cell_type": "code",
   "execution_count": null,
   "metadata": {},
   "outputs": [],
   "source": []
  },
  {
   "cell_type": "code",
   "execution_count": 35,
   "metadata": {},
   "outputs": [],
   "source": [
    "# 3) Machine learning model training:\n",
    "\n",
    "# Prediction on customer churn is a Classification problem under Supervised Learning, is either\n",
    "# the customer stays or leaves. The algorithms that choose to be use are the most common and \n",
    "# recognized in handling this problem, Logistics Regression, Decision Tree and Random Forest. \n",
    "\n",
    "# 1) Logistic Regression is a model that will try to predict or guess the probability of \n",
    "# belonging, with occurrence of sample belong to either zero or one, or in this case group \n",
    "# churn or not churn.\n",
    "\n",
    "# Before starting the Logistics Regression, we need to check on Multicolinearity issues as \n",
    "# Logistics Regression will required little or no correlated between the independent variables \n",
    "# (features = X). \n",
    "\n",
    "\n",
    "# 2) Decision Trees is used for classification purpose and is a recognized method for predicting \n",
    "# customer churn problems. In term of decision making it help to visually and explicitly \n",
    "# represent decisions and decision making. Hence the result of this model can help in fund \n",
    "# allocation to target those potential churners.\n",
    "\n",
    "\n",
    "# 3) Random Forest is capable of handling large data with higher dimensionality, and also reason \n",
    "# for selecting is because unlike Logistics Regression, it is better at fitting non-linear data \n",
    "# and even features with correlation.\n"
   ]
  },
  {
   "cell_type": "code",
   "execution_count": 36,
   "metadata": {},
   "outputs": [
    {
     "data": {
      "text/html": [
       "<div>\n",
       "<style scoped>\n",
       "    .dataframe tbody tr th:only-of-type {\n",
       "        vertical-align: middle;\n",
       "    }\n",
       "\n",
       "    .dataframe tbody tr th {\n",
       "        vertical-align: top;\n",
       "    }\n",
       "\n",
       "    .dataframe thead th {\n",
       "        text-align: right;\n",
       "    }\n",
       "</style>\n",
       "<table border=\"1\" class=\"dataframe\">\n",
       "  <thead>\n",
       "    <tr style=\"text-align: right;\">\n",
       "      <th></th>\n",
       "      <th>CredRate</th>\n",
       "      <th>Age</th>\n",
       "      <th>Tenure</th>\n",
       "      <th>Balance</th>\n",
       "      <th>Prod Number</th>\n",
       "      <th>HasCrCard</th>\n",
       "      <th>ActMem</th>\n",
       "      <th>EstimatedSalary</th>\n",
       "      <th>Exited</th>\n",
       "      <th>Geography_Germany</th>\n",
       "      <th>Geography_Spain</th>\n",
       "      <th>Gender_Male</th>\n",
       "    </tr>\n",
       "  </thead>\n",
       "  <tbody>\n",
       "    <tr>\n",
       "      <th>CredRate</th>\n",
       "      <td>1.000000</td>\n",
       "      <td>-0.004211</td>\n",
       "      <td>0.000842</td>\n",
       "      <td>0.006268</td>\n",
       "      <td>0.012238</td>\n",
       "      <td>-0.005458</td>\n",
       "      <td>0.025651</td>\n",
       "      <td>-0.001352</td>\n",
       "      <td>-0.027094</td>\n",
       "      <td>0.005538</td>\n",
       "      <td>0.004780</td>\n",
       "      <td>-0.002857</td>\n",
       "    </tr>\n",
       "    <tr>\n",
       "      <th>Age</th>\n",
       "      <td>-0.004211</td>\n",
       "      <td>1.000000</td>\n",
       "      <td>-0.009939</td>\n",
       "      <td>0.028080</td>\n",
       "      <td>-0.030564</td>\n",
       "      <td>-0.011756</td>\n",
       "      <td>0.085276</td>\n",
       "      <td>-0.007247</td>\n",
       "      <td>0.285203</td>\n",
       "      <td>0.046668</td>\n",
       "      <td>-0.001414</td>\n",
       "      <td>-0.027342</td>\n",
       "    </tr>\n",
       "    <tr>\n",
       "      <th>Tenure</th>\n",
       "      <td>0.000842</td>\n",
       "      <td>-0.009939</td>\n",
       "      <td>1.000000</td>\n",
       "      <td>-0.012254</td>\n",
       "      <td>0.013444</td>\n",
       "      <td>0.022583</td>\n",
       "      <td>-0.028362</td>\n",
       "      <td>0.007407</td>\n",
       "      <td>-0.014001</td>\n",
       "      <td>-0.000567</td>\n",
       "      <td>0.003868</td>\n",
       "      <td>0.014733</td>\n",
       "    </tr>\n",
       "    <tr>\n",
       "      <th>Balance</th>\n",
       "      <td>0.006268</td>\n",
       "      <td>0.028080</td>\n",
       "      <td>-0.012254</td>\n",
       "      <td>1.000000</td>\n",
       "      <td>-0.304180</td>\n",
       "      <td>-0.014858</td>\n",
       "      <td>-0.010084</td>\n",
       "      <td>0.013129</td>\n",
       "      <td>0.118533</td>\n",
       "      <td>0.401110</td>\n",
       "      <td>-0.134892</td>\n",
       "      <td>0.012087</td>\n",
       "    </tr>\n",
       "    <tr>\n",
       "      <th>Prod Number</th>\n",
       "      <td>0.012238</td>\n",
       "      <td>-0.030564</td>\n",
       "      <td>0.013444</td>\n",
       "      <td>-0.304180</td>\n",
       "      <td>1.000000</td>\n",
       "      <td>0.003183</td>\n",
       "      <td>0.009612</td>\n",
       "      <td>0.014132</td>\n",
       "      <td>-0.047820</td>\n",
       "      <td>-0.010419</td>\n",
       "      <td>0.009039</td>\n",
       "      <td>-0.021859</td>\n",
       "    </tr>\n",
       "    <tr>\n",
       "      <th>HasCrCard</th>\n",
       "      <td>-0.005458</td>\n",
       "      <td>-0.011756</td>\n",
       "      <td>0.022583</td>\n",
       "      <td>-0.014858</td>\n",
       "      <td>0.003183</td>\n",
       "      <td>1.000000</td>\n",
       "      <td>-0.011866</td>\n",
       "      <td>-0.009935</td>\n",
       "      <td>-0.007138</td>\n",
       "      <td>0.010577</td>\n",
       "      <td>-0.013480</td>\n",
       "      <td>0.005766</td>\n",
       "    </tr>\n",
       "    <tr>\n",
       "      <th>ActMem</th>\n",
       "      <td>0.025651</td>\n",
       "      <td>0.085276</td>\n",
       "      <td>-0.028362</td>\n",
       "      <td>-0.010084</td>\n",
       "      <td>0.009612</td>\n",
       "      <td>-0.011866</td>\n",
       "      <td>1.000000</td>\n",
       "      <td>-0.011471</td>\n",
       "      <td>-0.156128</td>\n",
       "      <td>-0.020486</td>\n",
       "      <td>0.016732</td>\n",
       "      <td>0.022544</td>\n",
       "    </tr>\n",
       "    <tr>\n",
       "      <th>EstimatedSalary</th>\n",
       "      <td>-0.001352</td>\n",
       "      <td>-0.007247</td>\n",
       "      <td>0.007407</td>\n",
       "      <td>0.013129</td>\n",
       "      <td>0.014132</td>\n",
       "      <td>-0.009935</td>\n",
       "      <td>-0.011471</td>\n",
       "      <td>1.000000</td>\n",
       "      <td>0.012234</td>\n",
       "      <td>0.010454</td>\n",
       "      <td>-0.006328</td>\n",
       "      <td>-0.008158</td>\n",
       "    </tr>\n",
       "    <tr>\n",
       "      <th>Exited</th>\n",
       "      <td>-0.027094</td>\n",
       "      <td>0.285203</td>\n",
       "      <td>-0.014001</td>\n",
       "      <td>0.118533</td>\n",
       "      <td>-0.047820</td>\n",
       "      <td>-0.007138</td>\n",
       "      <td>-0.156128</td>\n",
       "      <td>0.012234</td>\n",
       "      <td>1.000000</td>\n",
       "      <td>0.173488</td>\n",
       "      <td>-0.052667</td>\n",
       "      <td>-0.106512</td>\n",
       "    </tr>\n",
       "    <tr>\n",
       "      <th>Geography_Germany</th>\n",
       "      <td>0.005538</td>\n",
       "      <td>0.046668</td>\n",
       "      <td>-0.000567</td>\n",
       "      <td>0.401110</td>\n",
       "      <td>-0.010419</td>\n",
       "      <td>0.010577</td>\n",
       "      <td>-0.020486</td>\n",
       "      <td>0.010454</td>\n",
       "      <td>0.173488</td>\n",
       "      <td>1.000000</td>\n",
       "      <td>-0.332084</td>\n",
       "      <td>-0.024628</td>\n",
       "    </tr>\n",
       "    <tr>\n",
       "      <th>Geography_Spain</th>\n",
       "      <td>0.004780</td>\n",
       "      <td>-0.001414</td>\n",
       "      <td>0.003868</td>\n",
       "      <td>-0.134892</td>\n",
       "      <td>0.009039</td>\n",
       "      <td>-0.013480</td>\n",
       "      <td>0.016732</td>\n",
       "      <td>-0.006328</td>\n",
       "      <td>-0.052667</td>\n",
       "      <td>-0.332084</td>\n",
       "      <td>1.000000</td>\n",
       "      <td>0.016889</td>\n",
       "    </tr>\n",
       "    <tr>\n",
       "      <th>Gender_Male</th>\n",
       "      <td>-0.002857</td>\n",
       "      <td>-0.027342</td>\n",
       "      <td>0.014733</td>\n",
       "      <td>0.012087</td>\n",
       "      <td>-0.021859</td>\n",
       "      <td>0.005766</td>\n",
       "      <td>0.022544</td>\n",
       "      <td>-0.008158</td>\n",
       "      <td>-0.106512</td>\n",
       "      <td>-0.024628</td>\n",
       "      <td>0.016889</td>\n",
       "      <td>1.000000</td>\n",
       "    </tr>\n",
       "  </tbody>\n",
       "</table>\n",
       "</div>"
      ],
      "text/plain": [
       "                   CredRate       Age    Tenure   Balance  Prod Number  \\\n",
       "CredRate           1.000000 -0.004211  0.000842  0.006268     0.012238   \n",
       "Age               -0.004211  1.000000 -0.009939  0.028080    -0.030564   \n",
       "Tenure             0.000842 -0.009939  1.000000 -0.012254     0.013444   \n",
       "Balance            0.006268  0.028080 -0.012254  1.000000    -0.304180   \n",
       "Prod Number        0.012238 -0.030564  0.013444 -0.304180     1.000000   \n",
       "HasCrCard         -0.005458 -0.011756  0.022583 -0.014858     0.003183   \n",
       "ActMem             0.025651  0.085276 -0.028362 -0.010084     0.009612   \n",
       "EstimatedSalary   -0.001352 -0.007247  0.007407  0.013129     0.014132   \n",
       "Exited            -0.027094  0.285203 -0.014001  0.118533    -0.047820   \n",
       "Geography_Germany  0.005538  0.046668 -0.000567  0.401110    -0.010419   \n",
       "Geography_Spain    0.004780 -0.001414  0.003868 -0.134892     0.009039   \n",
       "Gender_Male       -0.002857 -0.027342  0.014733  0.012087    -0.021859   \n",
       "\n",
       "                   HasCrCard    ActMem  EstimatedSalary    Exited  \\\n",
       "CredRate           -0.005458  0.025651        -0.001352 -0.027094   \n",
       "Age                -0.011756  0.085276        -0.007247  0.285203   \n",
       "Tenure              0.022583 -0.028362         0.007407 -0.014001   \n",
       "Balance            -0.014858 -0.010084         0.013129  0.118533   \n",
       "Prod Number         0.003183  0.009612         0.014132 -0.047820   \n",
       "HasCrCard           1.000000 -0.011866        -0.009935 -0.007138   \n",
       "ActMem             -0.011866  1.000000        -0.011471 -0.156128   \n",
       "EstimatedSalary    -0.009935 -0.011471         1.000000  0.012234   \n",
       "Exited             -0.007138 -0.156128         0.012234  1.000000   \n",
       "Geography_Germany   0.010577 -0.020486         0.010454  0.173488   \n",
       "Geography_Spain    -0.013480  0.016732        -0.006328 -0.052667   \n",
       "Gender_Male         0.005766  0.022544        -0.008158 -0.106512   \n",
       "\n",
       "                   Geography_Germany  Geography_Spain  Gender_Male  \n",
       "CredRate                    0.005538         0.004780    -0.002857  \n",
       "Age                         0.046668        -0.001414    -0.027342  \n",
       "Tenure                     -0.000567         0.003868     0.014733  \n",
       "Balance                     0.401110        -0.134892     0.012087  \n",
       "Prod Number                -0.010419         0.009039    -0.021859  \n",
       "HasCrCard                   0.010577        -0.013480     0.005766  \n",
       "ActMem                     -0.020486         0.016732     0.022544  \n",
       "EstimatedSalary             0.010454        -0.006328    -0.008158  \n",
       "Exited                      0.173488        -0.052667    -0.106512  \n",
       "Geography_Germany           1.000000        -0.332084    -0.024628  \n",
       "Geography_Spain            -0.332084         1.000000     0.016889  \n",
       "Gender_Male                -0.024628         0.016889     1.000000  "
      ]
     },
     "execution_count": 36,
     "metadata": {},
     "output_type": "execute_result"
    }
   ],
   "source": [
    "# 1) Logistics Regression: Correlation Check on Multicolinearity between the independent \n",
    "#    variables (X).\n",
    "\n",
    "## From the result, features are not correlated to each. \n",
    "## Highest is 0.4 (Geography_Germany & Balance)...\n",
    "\n",
    "multicolinearity_check = train_df.corr()\n",
    "multicolinearity_check"
   ]
  },
  {
   "cell_type": "code",
   "execution_count": 37,
   "metadata": {},
   "outputs": [
    {
     "data": {
      "image/png": "[encoded data removed]",
      "text/plain": [
       "<Figure size 720x576 with 2 Axes>"
      ]
     },
     "metadata": {
      "needs_background": "light"
     },
     "output_type": "display_data"
    }
   ],
   "source": [
    "# Visualize the Multicolinearity with Heatmap.\n",
    "\n",
    "matplotlib.rcParams['font.size']=10\n",
    "figure = plt.figure(figsize=(10,8))\n",
    "plt.title('Heatmap for Multicolinearity',  size=18)\n",
    "sns.heatmap(multicolinearity_check, annot=True);"
   ]
  },
  {
   "cell_type": "code",
   "execution_count": 38,
   "metadata": {},
   "outputs": [],
   "source": [
    "# Perform Train-Test-Split: Splitting the dataset into the Training set and Test set, where\n",
    "# test size in 20%.\n",
    "\n",
    "from sklearn.model_selection import train_test_split\n",
    "\n",
    "X_train, X_test, y_train, y_test = train_test_split(features, target, \n",
    "                                                    test_size = 0.2, random_state = 111)"
   ]
  },
  {
   "cell_type": "code",
   "execution_count": 39,
   "metadata": {},
   "outputs": [],
   "source": [
    "# Perform Feature Scaling: Applying StandardScaler.\n",
    "\n",
    "from sklearn.preprocessing import StandardScaler\n",
    "\n",
    "sc = StandardScaler()\n",
    "X_train = sc.fit_transform(X_train)\n",
    "X_test = sc.fit_transform(X_test)"
   ]
  },
  {
   "cell_type": "code",
   "execution_count": 40,
   "metadata": {},
   "outputs": [
    {
     "data": {
      "text/plain": [
       "LogisticRegression()"
      ]
     },
     "execution_count": 40,
     "metadata": {},
     "output_type": "execute_result"
    }
   ],
   "source": [
    "### Fitting Logistic Regression to the Training set\n",
    "\n",
    "from sklearn.linear_model import LogisticRegression\n",
    "\n",
    "classifier = LogisticRegression()  \n",
    "classifier.fit(X_train, y_train)\n",
    "\n",
    "# Hyperparameters for the model\n",
    "# By default, threshold is 0.5."
   ]
  },
  {
   "cell_type": "code",
   "execution_count": 41,
   "metadata": {},
   "outputs": [
    {
     "data": {
      "text/plain": [
       "array([0, 1, 0, ..., 0, 0, 0], dtype=int64)"
      ]
     },
     "execution_count": 41,
     "metadata": {},
     "output_type": "execute_result"
    }
   ],
   "source": [
    "# Predicting the Test set results\n",
    "\n",
    "y_pred = classifier.predict(X_test)\n",
    "y_pred"
   ]
  },
  {
   "cell_type": "code",
   "execution_count": 42,
   "metadata": {},
   "outputs": [
    {
     "data": {
      "text/html": [
       "<div>\n",
       "<style scoped>\n",
       "    .dataframe tbody tr th:only-of-type {\n",
       "        vertical-align: middle;\n",
       "    }\n",
       "\n",
       "    .dataframe tbody tr th {\n",
       "        vertical-align: top;\n",
       "    }\n",
       "\n",
       "    .dataframe thead th {\n",
       "        text-align: right;\n",
       "    }\n",
       "</style>\n",
       "<table border=\"1\" class=\"dataframe\">\n",
       "  <thead>\n",
       "    <tr style=\"text-align: right;\">\n",
       "      <th></th>\n",
       "      <th>Actual</th>\n",
       "      <th>Predicted</th>\n",
       "    </tr>\n",
       "  </thead>\n",
       "  <tbody>\n",
       "    <tr>\n",
       "      <th>207</th>\n",
       "      <td>0</td>\n",
       "      <td>0</td>\n",
       "    </tr>\n",
       "    <tr>\n",
       "      <th>1866</th>\n",
       "      <td>0</td>\n",
       "      <td>1</td>\n",
       "    </tr>\n",
       "    <tr>\n",
       "      <th>9487</th>\n",
       "      <td>0</td>\n",
       "      <td>0</td>\n",
       "    </tr>\n",
       "    <tr>\n",
       "      <th>3673</th>\n",
       "      <td>0</td>\n",
       "      <td>0</td>\n",
       "    </tr>\n",
       "    <tr>\n",
       "      <th>7178</th>\n",
       "      <td>0</td>\n",
       "      <td>0</td>\n",
       "    </tr>\n",
       "  </tbody>\n",
       "</table>\n",
       "</div>"
      ],
      "text/plain": [
       "      Actual  Predicted\n",
       "207        0          0\n",
       "1866       0          1\n",
       "9487       0          0\n",
       "3673       0          0\n",
       "7178       0          0"
      ]
     },
     "execution_count": 42,
     "metadata": {},
     "output_type": "execute_result"
    }
   ],
   "source": [
    "# Comparision of Actual and Predicted label/dependent variable \n",
    "\n",
    "df = pd.DataFrame({'Actual': y_test, 'Predicted': y_pred})\n",
    "df.head()"
   ]
  },
  {
   "cell_type": "code",
   "execution_count": 43,
   "metadata": {},
   "outputs": [
    {
     "data": {
      "text/plain": [
       "(2000,)"
      ]
     },
     "execution_count": 43,
     "metadata": {},
     "output_type": "execute_result"
    }
   ],
   "source": [
    "y_pred.shape   # 20%"
   ]
  },
  {
   "cell_type": "code",
   "execution_count": 44,
   "metadata": {},
   "outputs": [],
   "source": [
    "# Describe the evaluation metrics use to evaluate the models.\n",
    "\n",
    "# The evaluation metrics that used are “Confusion Metrix” table which summarized the number \n",
    "# of correctly classified and incorrectly classified (misclassified), “Precision” is the ratio \n",
    "# of correctly predicted positive over total positive, “Recall” is the ratio of correctly \n",
    "# predicted positive over all the observations in actual class and the “Accuracy” of the \n",
    "# prediction. \n"
   ]
  },
  {
   "cell_type": "code",
   "execution_count": 45,
   "metadata": {},
   "outputs": [
    {
     "name": "stdout",
     "output_type": "stream",
     "text": [
      "[[1531   61]\n",
      " [ 318   90]]\n"
     ]
    },
    {
     "data": {
      "image/png": "[encoded data removed]",
      "text/plain": [
       "<Figure size 432x288 with 2 Axes>"
      ]
     },
     "metadata": {
      "needs_background": "light"
     },
     "output_type": "display_data"
    }
   ],
   "source": [
    "# 1) Logistic Regression: Checking the result with Confusion Matrix\n",
    "\n",
    "from sklearn.metrics import confusion_matrix, classification_report\n",
    "matplotlib.rcParams['font.size']=15\n",
    "\n",
    "cm= confusion_matrix(y_test, y_pred)  \n",
    "print(cm)\n",
    "plt.title('Confusion Matrix - Logistic Regression', size=18)\n",
    "sns.heatmap(cm, annot=True);\n"
   ]
  },
  {
   "cell_type": "code",
   "execution_count": 47,
   "metadata": {},
   "outputs": [],
   "source": [
    "# Result for Logistic Regression\n",
    "\n",
    "# From Confusion Matrix a total of 1531 were correctly predicted and 318 was incorrect. From \n",
    "# the Classification Report, result on applying Logistics Regression is quite good, Accuracy \n",
    "# score is 81%, %, the performance metrics in predicting customer who not churn is quite good,\n",
    "# as the precision, recall and F1 score is 0.83, 0.96, and 0.89. However, the prediction of \n",
    "# customer will churn (class 1) is less accurate with 0.60, 0.22 and 0.32.\n"
   ]
  },
  {
   "cell_type": "code",
   "execution_count": 48,
   "metadata": {},
   "outputs": [
    {
     "name": "stdout",
     "output_type": "stream",
     "text": [
      "              precision    recall  f1-score   support\n",
      "\n",
      "           0       0.83      0.96      0.89      1592\n",
      "           1       0.60      0.22      0.32       408\n",
      "\n",
      "    accuracy                           0.81      2000\n",
      "   macro avg       0.71      0.59      0.61      2000\n",
      "weighted avg       0.78      0.81      0.77      2000\n",
      "\n"
     ]
    }
   ],
   "source": [
    "print(classification_report(y_test, y_pred))"
   ]
  },
  {
   "cell_type": "code",
   "execution_count": 50,
   "metadata": {},
   "outputs": [
    {
     "name": "stdout",
     "output_type": "stream",
     "text": [
      "0.5911358261897725\n"
     ]
    }
   ],
   "source": [
    "# Another important Metrix is AUC score, it is the area under the receiver operating \n",
    "# characteristic (ROC) curve. It indicating the capability of models in differentia the \n",
    "# customer churn or not churn with range 0 to 1. Current AUC score for the model is 0.59 \n",
    "# which is moderate.\n",
    "\n",
    "from sklearn.metrics import roc_auc_score\n",
    "LG_area_under_curve = roc_auc_score(y_test, classifier.predict(X_test))\n",
    "print(LG_area_under_curve)"
   ]
  },
  {
   "cell_type": "code",
   "execution_count": 51,
   "metadata": {},
   "outputs": [
    {
     "data": {
      "text/plain": [
       "(2000, 2)"
      ]
     },
     "execution_count": 51,
     "metadata": {},
     "output_type": "execute_result"
    }
   ],
   "source": [
    "classifier.predict_proba(X_test).shape"
   ]
  },
  {
   "cell_type": "code",
   "execution_count": 52,
   "metadata": {},
   "outputs": [
    {
     "data": {
      "image/png": "[encoded data removed]",
      "text/plain": [
       "<Figure size 576x432 with 1 Axes>"
      ]
     },
     "metadata": {
      "needs_background": "light"
     },
     "output_type": "display_data"
    }
   ],
   "source": [
    "# 1) Logistic Regression: Visualize the AUC result with ROC curve plot.\n",
    "\n",
    "from sklearn.metrics import roc_curve\n",
    "fpr, tpr, thresholds = roc_curve(y_test, classifier.predict_proba(X_test)[:,1])  \n",
    "\n",
    "matplotlib.rcParams['font.size']=15\n",
    "figure = plt.figure(figsize=(8,6))\n",
    "plt.plot(fpr, tpr, label='Logistic Regression (area = %0.2f)' % LG_area_under_curve)\n",
    "plt.plot([0, 1], [0, 1],'r--')\n",
    "plt.xlim([0.0, 1.0])\n",
    "plt.ylim([0.0, 1.05])\n",
    "\n",
    "plt.xlabel('False Positive Rate')\n",
    "plt.ylabel('True Positive Rate')\n",
    "plt.title('ROC For Logistic Regression')\n",
    "plt.legend(loc=\"lower right\")\n",
    "#plt.savefig('Log_ROC')\n",
    "plt.show()"
   ]
  },
  {
   "cell_type": "code",
   "execution_count": null,
   "metadata": {},
   "outputs": [],
   "source": []
  },
  {
   "cell_type": "code",
   "execution_count": 53,
   "metadata": {},
   "outputs": [
    {
     "data": {
      "text/plain": [
       "DecisionTreeClassifier(criterion='entropy', max_depth=4, random_state=111)"
      ]
     },
     "execution_count": 53,
     "metadata": {},
     "output_type": "execute_result"
    }
   ],
   "source": [
    "# 2) Decision Tree: Fitting Decision Tree Classification to the Training set\n",
    "\n",
    "from sklearn.tree import DecisionTreeClassifier \n",
    "\n",
    "DTclassifier = DecisionTreeClassifier(criterion='entropy', max_depth=4, random_state=111) \n",
    "DTclassifier.fit(X_train, y_train)  \n",
    "\n",
    "\n",
    "# Selecting the hyperparameters for the models\n",
    "# a) Set criterion as entropy for information gain and maximize the mutual information.\n",
    "# b) Set the max_depth as 4 to have good predicting result of True Positive (1573) and \n",
    "#    False Positive (288) in Confusion Matrix.\n",
    "# c) Set the random_state and any number (in this case 111) to have result not changing on each run.\n",
    "\n",
    "# Result on Confusion Matrix\n",
    "# [[1497   95]   using 5 max-depth\n",
    "#  [ 198  210]]\n",
    "\n",
    "# [[1573   19]   using 4\n",
    "#  [ 288  120]]\n",
    "\n",
    "# [[1573   19]   using 3\n",
    "#  [ 294  114]]"
   ]
  },
  {
   "cell_type": "code",
   "execution_count": 54,
   "metadata": {},
   "outputs": [],
   "source": [
    "# Predicting the Test set results\n",
    "\n",
    "DT_y_pred = DTclassifier.predict(X_test)"
   ]
  },
  {
   "cell_type": "code",
   "execution_count": 55,
   "metadata": {},
   "outputs": [
    {
     "name": "stdout",
     "output_type": "stream",
     "text": [
      "[[1573   19]\n",
      " [ 288  120]]\n"
     ]
    },
    {
     "data": {
      "image/png": "[encoded data removed]",
      "text/plain": [
       "<Figure size 432x288 with 2 Axes>"
      ]
     },
     "metadata": {
      "needs_background": "light"
     },
     "output_type": "display_data"
    }
   ],
   "source": [
    "# 2) Decision Tree: Checking the result with Confusion Matrix\n",
    "\n",
    "from sklearn.metrics import confusion_matrix\n",
    "\n",
    "cm = confusion_matrix(y_test, DT_y_pred)\n",
    "print(cm)\n",
    "plt.title('Confusion Matrix - Decision Tree', size=18)\n",
    "sns.heatmap(cm, annot=True);\n"
   ]
  },
  {
   "cell_type": "code",
   "execution_count": 56,
   "metadata": {},
   "outputs": [],
   "source": [
    "# Result for Decision Tree\n",
    "\n",
    "# Based on Confusion Matrix, Decision Tree has predicted a total of 1576 True Positive correctly\n",
    "# and 292 False Positive incorrect. From the Classification Report, result on applying Decision \n",
    "# Tree is even better, Accuracy score is 85%, the performance metrics in predicting customer \n",
    "# who not churn is also better, Precision, Recall and F1 score is 0.85, 0.99, and 0.91. The \n",
    "# prediction of customer will churn (class 1) is improve with Precision of 0.86 but still less \n",
    "# accurate on Recall and F1-score, 0.29 and 0.44.\n",
    "\n",
    "# The overall result is better compared to Logistic Regression.\n"
   ]
  },
  {
   "cell_type": "code",
   "execution_count": 57,
   "metadata": {},
   "outputs": [
    {
     "name": "stdout",
     "output_type": "stream",
     "text": [
      "              precision    recall  f1-score   support\n",
      "\n",
      "           0       0.85      0.99      0.91      1592\n",
      "           1       0.86      0.29      0.44       408\n",
      "\n",
      "    accuracy                           0.85      2000\n",
      "   macro avg       0.85      0.64      0.67      2000\n",
      "weighted avg       0.85      0.85      0.81      2000\n",
      "\n"
     ]
    }
   ],
   "source": [
    "print(classification_report(y_test, DT_y_pred))"
   ]
  },
  {
   "cell_type": "code",
   "execution_count": 58,
   "metadata": {},
   "outputs": [
    {
     "data": {
      "text/plain": [
       "0    0.7963\n",
       "1    0.2037\n",
       "Name: Exited, dtype: float64"
      ]
     },
     "execution_count": 58,
     "metadata": {},
     "output_type": "execute_result"
    }
   ],
   "source": [
    "df_churn.Exited.value_counts(1)"
   ]
  },
  {
   "cell_type": "code",
   "execution_count": 59,
   "metadata": {},
   "outputs": [
    {
     "name": "stdout",
     "output_type": "stream",
     "text": [
      "0.6410914868459947\n"
     ]
    }
   ],
   "source": [
    "# 2) Decision Tree: AUC score result\n",
    "\n",
    "from sklearn.metrics import roc_auc_score\n",
    "DT_area_under_curve = roc_auc_score(y_test, DTclassifier.predict(X_test))\n",
    "print(DT_area_under_curve)\n",
    "\n",
    "# Computing the AUC score for Decision Tree and plotting the ROC curve, the result for \n",
    "# Decision Tree is 0.64 and is above moderate. And is 8.5% better than Logistic Regression Model. "
   ]
  },
  {
   "cell_type": "code",
   "execution_count": 60,
   "metadata": {},
   "outputs": [
    {
     "data": {
      "text/plain": [
       "(2000, 2)"
      ]
     },
     "execution_count": 60,
     "metadata": {},
     "output_type": "execute_result"
    }
   ],
   "source": [
    "DTclassifier.predict_proba(X_test).shape"
   ]
  },
  {
   "cell_type": "code",
   "execution_count": 61,
   "metadata": {},
   "outputs": [
    {
     "data": {
      "image/png": "[encoded data removed]",
      "text/plain": [
       "<Figure size 576x432 with 1 Axes>"
      ]
     },
     "metadata": {
      "needs_background": "light"
     },
     "output_type": "display_data"
    }
   ],
   "source": [
    "# 2) Decision Tree: Visualize the AUC result with ROC curve plot.\n",
    "\n",
    "from sklearn.metrics import roc_curve\n",
    "fpr, tpr, thresholds = roc_curve(y_test, DTclassifier.predict_proba(X_test)[:,1])  \n",
    "\n",
    "matplotlib.rcParams['font.size']=15\n",
    "figure = plt.figure(figsize=(8,6))\n",
    "plt.plot(fpr, tpr, label='Decision Tree (area = %0.2f)' % DT_area_under_curve)\n",
    "plt.plot([0, 1], [0, 1],'r--')\n",
    "plt.xlim([0.0, 1.0])\n",
    "plt.ylim([0.0, 1.05])\n",
    "\n",
    "plt.xlabel('False Positive Rate')\n",
    "plt.ylabel('True Positive Rate')\n",
    "plt.title('ROC For Decision Tree')\n",
    "plt.legend(loc=\"lower right\")\n",
    "#plt.savefig('Log_ROC')\n",
    "plt.show()"
   ]
  },
  {
   "cell_type": "code",
   "execution_count": null,
   "metadata": {},
   "outputs": [],
   "source": []
  },
  {
   "cell_type": "code",
   "execution_count": 62,
   "metadata": {},
   "outputs": [
    {
     "data": {
      "text/plain": [
       "RandomForestClassifier(criterion='entropy', random_state=111)"
      ]
     },
     "execution_count": 62,
     "metadata": {},
     "output_type": "execute_result"
    }
   ],
   "source": [
    "# 3) Random Forest: Fitting Random Forest Classification to the Training set.\n",
    "\n",
    "from sklearn.ensemble import RandomForestClassifier\n",
    "RF = RandomForestClassifier(n_estimators = 100, criterion = 'entropy', random_state = 111) \n",
    "RF.fit(X_train, y_train)\n",
    "\n",
    "\n",
    "# Selecting the hyperparameters for the models\n",
    "# a) Starting with n_extimators as 100 trees in the forest to have less incorrect of \n",
    "#    False Positive (227 / 213).\n",
    "# b) Set criterion as entropy for information gain and maximize the mutual information.\n",
    "# c) Set the random_state and any number (in this case 111) to have result not changing on each run.\n",
    "\n",
    "# Result on Confusion Matrix\n",
    "# [[1543   49]   n_estimators=10\n",
    "#  [ 227  181]]\n",
    "\n",
    "# [[1534   58]   n_estimators=100\n",
    "#  [ 213  195]]"
   ]
  },
  {
   "cell_type": "code",
   "execution_count": 63,
   "metadata": {},
   "outputs": [],
   "source": [
    "# Predicting the Test set results\n",
    "RF_y_pred = RF.predict(X_test)"
   ]
  },
  {
   "cell_type": "code",
   "execution_count": 64,
   "metadata": {},
   "outputs": [
    {
     "name": "stdout",
     "output_type": "stream",
     "text": [
      "[[1534   58]\n",
      " [ 213  195]]\n"
     ]
    },
    {
     "data": {
      "image/png": "[encoded data removed]",
      "text/plain": [
       "<Figure size 432x288 with 2 Axes>"
      ]
     },
     "metadata": {
      "needs_background": "light"
     },
     "output_type": "display_data"
    }
   ],
   "source": [
    "# 3) Random Forest: Making the Confusion Matrix\n",
    "\n",
    "from sklearn.metrics import confusion_matrix\n",
    "cm = confusion_matrix(y_test, RF_y_pred)\n",
    "print(cm)\n",
    "plt.title('Confusion Matrix - Random Forest', size=18)\n",
    "sns.heatmap(cm, annot= True);\n",
    "\n",
    "# Setting n_estimators\n",
    "# [[1543   49]   n_estimators=10\n",
    "#  [ 227  181]]\n",
    "\n",
    "# [[1534   58]   n_estimators=100\n",
    "#  [ 213  195]]"
   ]
  },
  {
   "cell_type": "code",
   "execution_count": 65,
   "metadata": {},
   "outputs": [],
   "source": [
    "# Result for Random Forest\n",
    "\n",
    "# Based on Confusion Matrix, Random Forest has predicted a total of 1534 True Positive \n",
    "# correctly and 213 False Positive incorrect. From the Classification Report, result on \n",
    "# applying Random Forest having best result among the 3 model, Accuracy score is 86%, the \n",
    "# performance metrics in predicting customer who not churn is also better, Precision, \n",
    "# Recall and F1 score is 0.88, 0.96, and 0.92. The prediction of customer will churn \n",
    "# (class 1) is quite balance with Precision 0.77, and the Recall and F1-score is the best \n",
    "# compare to the other two models with value 0.48 and 0.59.\n"
   ]
  },
  {
   "cell_type": "code",
   "execution_count": 66,
   "metadata": {},
   "outputs": [
    {
     "name": "stdout",
     "output_type": "stream",
     "text": [
      "              precision    recall  f1-score   support\n",
      "\n",
      "           0       0.88      0.96      0.92      1592\n",
      "           1       0.77      0.48      0.59       408\n",
      "\n",
      "    accuracy                           0.86      2000\n",
      "   macro avg       0.82      0.72      0.75      2000\n",
      "weighted avg       0.86      0.86      0.85      2000\n",
      "\n"
     ]
    }
   ],
   "source": [
    "print(classification_report(y_test, RF_y_pred))"
   ]
  },
  {
   "cell_type": "code",
   "execution_count": 67,
   "metadata": {},
   "outputs": [
    {
     "name": "stdout",
     "output_type": "stream",
     "text": [
      "0.7207545078332841\n"
     ]
    }
   ],
   "source": [
    "# 3) Random Forest: AUC score result\n",
    "\n",
    "from sklearn.metrics import roc_auc_score   #RF.predict(X_test)\n",
    "RF_area_under_curve = roc_auc_score(y_test, RF.predict(X_test))\n",
    "print(RF_area_under_curve)\n",
    "\n",
    "# Computing the AUC score for Random Forest and plotting the ROC curve, the result for \n",
    "# Random Forest is 0.72 and is good. And is 12.5% better than Decision Tree model. Since \n",
    "# Random Forest is formed by using many Decision Tree, hence the result is better."
   ]
  },
  {
   "cell_type": "code",
   "execution_count": 68,
   "metadata": {},
   "outputs": [
    {
     "data": {
      "text/plain": [
       "(2000, 2)"
      ]
     },
     "execution_count": 68,
     "metadata": {},
     "output_type": "execute_result"
    }
   ],
   "source": [
    "RF.predict_proba(X_test).shape"
   ]
  },
  {
   "cell_type": "code",
   "execution_count": 69,
   "metadata": {},
   "outputs": [
    {
     "data": {
      "image/png": "[encoded data removed]",
      "text/plain": [
       "<Figure size 576x432 with 1 Axes>"
      ]
     },
     "metadata": {
      "needs_background": "light"
     },
     "output_type": "display_data"
    }
   ],
   "source": [
    "# 3) Random Forest: Visualize the AUC result with ROC curve plot.\n",
    "\n",
    "from sklearn.metrics import roc_curve\n",
    "fpr, tpr, thresholds = roc_curve(y_test, RF.predict_proba(X_test)[:,1])  \n",
    "\n",
    "matplotlib.rcParams['font.size']=15\n",
    "figure = plt.figure(figsize=(8,6))\n",
    "plt.plot(fpr, tpr, label='Random Forest (area = %0.2f)' % RF_area_under_curve)\n",
    "plt.plot([0, 1], [0, 1],'r--')\n",
    "plt.xlim([0.0, 1.0])\n",
    "plt.ylim([0.0, 1.05])\n",
    "\n",
    "plt.xlabel('False Positive Rate')\n",
    "plt.ylabel('True Positive Rate')\n",
    "plt.title('ROC For Random Forest')\n",
    "plt.legend(loc=\"lower right\")\n",
    "#plt.savefig('Log_ROC')\n",
    "plt.show()"
   ]
  },
  {
   "cell_type": "code",
   "execution_count": null,
   "metadata": {},
   "outputs": [],
   "source": []
  },
  {
   "cell_type": "code",
   "execution_count": 70,
   "metadata": {},
   "outputs": [],
   "source": [
    "# Conclusion:\n",
    "\n",
    "# The result form each model clearly indicated that the prediction is worked and able to \n",
    "# provide some insight for the stakeholders. With the Accuracy from Logistic Regression \n",
    "# at 81%, it increases to 85% with applying Decision Tree and lastly increased to 86% with \n",
    "# Random Forest. Since the model has reached an accuracy of 86%, this mean it can predict \n",
    "# 8.6 out of 10 times correct be it a customer is likely to churn or not. This is a useful \n",
    "# data for the marketing team to allocate their budget correctly. \n",
    "\n",
    "# This project provides me a new learning experience in term of predicting customer churn, \n",
    "# it also allowed me to work in different type of plotting and make me realized that the \n",
    "# important of Data Visualization can help in better understanding the results. Moving \n",
    "# forward I would like to practice and explored more on the Machine Learning especially \n",
    "# prediction on real live or work-related issues.\n"
   ]
  },
  {
   "cell_type": "code",
   "execution_count": null,
   "metadata": {},
   "outputs": [],
   "source": []
  }
 ],
 "metadata": {
  "kernelspec": {
   "display_name": "Python 3",
   "language": "python",
   "name": "python3"
  },
  "language_info": {
   "codemirror_mode": {
    "name": "ipython",
    "version": 3
   },
   "file_extension": ".py",
   "mimetype": "text/x-python",
   "name": "python",
   "nbconvert_exporter": "python",
   "pygments_lexer": "ipython3",
   "version": "3.8.3"
  }
 },
 "nbformat": 4,
 "nbformat_minor": 2
}
